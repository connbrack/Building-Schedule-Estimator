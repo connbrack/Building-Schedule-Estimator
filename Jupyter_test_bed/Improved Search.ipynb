{
 "cells": [
  {
   "cell_type": "code",
   "execution_count": 8,
   "id": "1766ef71",
   "metadata": {},
   "outputs": [],
   "source": [
    "import pathlib\n",
    "import datetime\n",
    "import warnings\n",
    "from tqdm.notebook import tqdm\n",
    "\n",
    "import pandas as pd\n",
    "import numpy as np\n",
    "import pickle as plk\n",
    "\n",
    "import matplotlib.pyplot as plt\n",
    "import plotly.express as px\n",
    "%matplotlib inline  \n",
    "\n",
    "import pwlf\n",
    "import sklearn\n",
    "from sklearn.base import BaseEstimator, ClassifierMixin\n",
    "from sklearn.model_selection import GridSearchCV\n",
    "from sklearn.utils.validation import check_is_fitted\n",
    "from sklearn.metrics import mean_squared_error\n",
    "import sklearn.pipeline"
   ]
  },
  {
   "cell_type": "code",
   "execution_count": 9,
   "id": "648376ed",
   "metadata": {},
   "outputs": [],
   "source": [
    "# Mimic drop down\n",
    "building_dropdown = 'CD Howe'\n",
    "year_dropdown = 2019"
   ]
  },
  {
   "cell_type": "code",
   "execution_count": 10,
   "id": "4bac5193",
   "metadata": {},
   "outputs": [],
   "source": [
    "# Import Data\n",
    "PATH = pathlib.Path().parent.parent\n",
    "DATA_PATH = PATH.joinpath(\"../app/data\").resolve()\n",
    "\n",
    "with open(DATA_PATH.joinpath(f'{building_dropdown}/Energy/_energyData.pkl'), 'rb') as f:\n",
    "    energy_df = plk.load(f)\n",
    "\n",
    "with open(DATA_PATH.joinpath(f'Supporting/Weather/Ottawa.pkl'), 'rb') as f:\n",
    "    weather_df = plk.load(f)\n",
    "                          \n",
    "with open(DATA_PATH.joinpath(f'Supporting/Weather/Ottawa_TMY.pkl'), 'rb') as f:\n",
    "    weather_TMY = plk.load(f)\n",
    "                          \n",
    "    \n",
    "df_all = pd.merge(energy_df, weather_df, how='outer', left_index=True, right_index=True)\n",
    "df_all = df_all[df_all.index < datetime.datetime(2020, 10, 1, 0, 0, 0)]\n",
    "df = df_all[df_all.index.year == year_dropdown]\n"
   ]
  },
  {
   "cell_type": "code",
   "execution_count": 11,
   "id": "d28d7dc2",
   "metadata": {},
   "outputs": [],
   "source": [
    "def prep_data(df, parameter, drop_zero=True):\n",
    "    df = df.dropna(subset=['temperature', parameter])\n",
    "    if drop_zero:\n",
    "        df = df[df[parameter] != 0]\n",
    "    \n",
    "    date = df.index.to_numpy()\n",
    "    x1 = df.temperature.to_numpy()\n",
    "    x = pd.DataFrame({'date':date, 'x1':x1})\n",
    "    y = df.chilledWater.to_numpy()\n",
    "    return x, y\n",
    "\n",
    "\n",
    "x, y = prep_data(df, 'chilledWater')"
   ]
  },
  {
   "cell_type": "code",
   "execution_count": 12,
   "id": "6e788701",
   "metadata": {},
   "outputs": [
    {
     "data": {
      "text/plain": [
       "<matplotlib.collections.PathCollection at 0x2041b8f9b20>"
      ]
     },
     "execution_count": 12,
     "metadata": {},
     "output_type": "execute_result"
    },
    {
     "data": {
      "image/png": "[encoded data removed]",
      "text/plain": [
       "<Figure size 432x288 with 1 Axes>"
      ]
     },
     "metadata": {
      "needs_background": "light"
     },
     "output_type": "display_data"
    }
   ],
   "source": [
    "def seperate_data_by_Schedule(d_time, workday_sch, weekend_sch=None):\n",
    "    \n",
    "    weekday_on = (d_time.dt.dayofweek < 5) & ((d_time.dt.hour > workday_sch[0]) & (d_time.dt.hour <= workday_sch[1]))\n",
    "    \n",
    "    if weekend_sch==None:\n",
    "        return weekday_on.to_numpy()\n",
    "    else:\n",
    "        weekend_on= (d_time.dt.dayofweek >= 5) & ((d_time.dt.hour > weekend_sch[0]) & (d_time.dt.hour <= weekend_sch[1]))\n",
    "        return (weekday_on | weekend_on).to_numpy()\n",
    "\n",
    "\n",
    "class pwlf_sch(BaseEstimator, ClassifierMixin):\n",
    "    \"\"\"\n",
    "    \"\"\"\n",
    "    def __init__(self, sch=None, weekend_sch=None, line_seg=2):\n",
    "        '''\n",
    "        '''\n",
    "        self.sch = sch\n",
    "        self.weekend_sch = weekend_sch\n",
    "        self.line_seg = line_seg\n",
    "        return None\n",
    "        \n",
    "    def fit(self, x, y):\n",
    "        sch_split = seperate_data_by_Schedule(x.date, self.sch, weekend_sch=self.weekend_sch)\n",
    "        x_on, y_on = x.x1[sch_split].to_numpy(), y[sch_split]\n",
    "        x_off, y_off = x.x1[~sch_split].to_numpy(), y[~sch_split]\n",
    "        \n",
    "        with warnings.catch_warnings():\n",
    "            warnings.simplefilter('ignore')\n",
    "            self.pwlf_on = pwlf.PiecewiseLinFit(x_on, y_on)\n",
    "            self.pwlf_on.fit(self.line_seg)\n",
    "            self.pwlf_off = pwlf.PiecewiseLinFit(x_off, y_off)\n",
    "            self.pwlf_off.fit(self.line_seg)    \n",
    "               \n",
    "        return self\n",
    "    \n",
    "    def predict(self, x):\n",
    "        # Split Schedules\n",
    "        sch_split = seperate_data_by_Schedule(x.date, self.sch, weekend_sch=self.weekend_sch)               \n",
    "        \n",
    "        # Apply Model to appropriate columns\n",
    "        y_pred = x.x1.copy()     \n",
    "        y_pred[sch_split] = self.pwlf_on.predict(y_pred[sch_split])\n",
    "        y_pred[~sch_split] = self.pwlf_off.predict(y_pred[~sch_split])\n",
    "        y_pred = y_pred.to_numpy()\n",
    "        \n",
    "        return y_pred\n",
    "    \n",
    "    def score(self, x, y):\n",
    "        \"\"\"\n",
    "        score is reqired so the random search knows what is the best estimator\n",
    "        \"\"\"\n",
    "        y_pred = self.predict(x)\n",
    "        return mean_squared_error(y, y_pred, squared=False)\n",
    "    \n",
    "model = pwlf_sch(sch=[5, 17], weekend_sch=None, line_seg=2)\n",
    "model.fit(x,y)\n",
    "\n",
    "plt.scatter(x.x1,y)\n",
    "plt.scatter(x.x1,model.predict(x))"
   ]
  },
  {
   "cell_type": "code",
   "execution_count": 13,
   "id": "da2a03c2",
   "metadata": {},
   "outputs": [
    {
     "name": "stdout",
     "output_type": "stream",
     "text": [
      "Fitting 2 folds for each of 91 candidates, totalling 182 fits\n"
     ]
    }
   ],
   "source": [
    "#Generate Schedule List\n",
    "search_start, min_sch_len = 4, 7\n",
    "schs = []\n",
    "for workDayStart in range(search_start, 24-min_sch_len):\n",
    "    for workDayEnd in range(workDayStart+min_sch_len, 24):\n",
    "        schs.append([float(workDayStart), float(workDayEnd)])\n",
    "\n",
    "weekend_sch = schs.copy()\n",
    "weekend_sch.append(None)\n",
    "weekend_sch\n",
    "\n",
    "c_pt = pwlf_sch(weekend_sch=None, line_seg=2)\n",
    "\n",
    "grid = {\n",
    "    'sch': schs\n",
    "    # 'weekend_sch': weekend_sch\n",
    "}\n",
    "\n",
    "gs_dt = GridSearchCV(\n",
    "    estimator=c_pt, \n",
    "    param_grid=grid,\n",
    "    n_jobs=12, # Based on the number of threads in your cpu core, n=-1 means use all cpu threads\n",
    "    cv=2, # Cross validation split \n",
    "    verbose=1 # Higher means more updates \n",
    ").fit(x, y)"
   ]
  },
  {
   "cell_type": "code",
   "execution_count": 15,
   "id": "713314b2",
   "metadata": {},
   "outputs": [
    {
     "data": {
      "application/vnd.plotly.v1+json": {
       "config": {
        "plotlyServerURL": "https://plot.ly"
       },
       "data": [
        {
         "customdata": [
          [
           [
            5,
            17
           ]
          ],
          [
           [
            5,
            16
           ]
          ],
          [
           [
            4,
            17
           ]
          ],
          [
           [
            4,
            16
           ]
          ],
          [
           [
            5,
            18
           ]
          ],
          [
           [
            6,
            17
           ]
          ],
          [
           [
            4,
            18
           ]
          ],
          [
           [
            5,
            15
           ]
          ],
          [
           [
            6,
            16
           ]
          ],
          [
           [
            5,
            19
           ]
          ],
          [
           [
            4,
            15
           ]
          ],
          [
           [
            4,
            19
           ]
          ],
          [
           [
            6,
            18
           ]
          ],
          [
           [
            7,
            17
           ]
          ],
          [
           [
            5,
            14
           ]
          ],
          [
           [
            5,
            20
           ]
          ],
          [
           [
            7,
            16
           ]
          ],
          [
           [
            6,
            15
           ]
          ],
          [
           [
            4,
            20
           ]
          ],
          [
           [
            4,
            14
           ]
          ],
          [
           [
            6,
            19
           ]
          ],
          [
           [
            8,
            17
           ]
          ],
          [
           [
            5,
            21
           ]
          ],
          [
           [
            7,
            18
           ]
          ],
          [
           [
            8,
            16
           ]
          ],
          [
           [
            5,
            13
           ]
          ],
          [
           [
            4,
            21
           ]
          ],
          [
           [
            7,
            15
           ]
          ],
          [
           [
            6,
            14
           ]
          ],
          [
           [
            6,
            20
           ]
          ],
          [
           [
            5,
            22
           ]
          ],
          [
           [
            4,
            13
           ]
          ],
          [
           [
            4,
            22
           ]
          ],
          [
           [
            7,
            19
           ]
          ],
          [
           [
            9,
            17
           ]
          ],
          [
           [
            8,
            18
           ]
          ],
          [
           [
            9,
            16
           ]
          ],
          [
           [
            8,
            15
           ]
          ],
          [
           [
            5,
            23
           ]
          ],
          [
           [
            5,
            12
           ]
          ],
          [
           [
            6,
            21
           ]
          ],
          [
           [
            7,
            14
           ]
          ],
          [
           [
            4,
            23
           ]
          ],
          [
           [
            6,
            13
           ]
          ],
          [
           [
            7,
            20
           ]
          ],
          [
           [
            4,
            12
           ]
          ],
          [
           [
            8,
            19
           ]
          ],
          [
           [
            6,
            22
           ]
          ],
          [
           [
            9,
            18
           ]
          ],
          [
           [
            10,
            17
           ]
          ],
          [
           [
            7,
            21
           ]
          ],
          [
           [
            6,
            23
           ]
          ],
          [
           [
            8,
            20
           ]
          ],
          [
           [
            9,
            19
           ]
          ],
          [
           [
            4,
            11
           ]
          ],
          [
           [
            10,
            18
           ]
          ],
          [
           [
            7,
            22
           ]
          ],
          [
           [
            8,
            21
           ]
          ],
          [
           [
            7,
            23
           ]
          ],
          [
           [
            9,
            20
           ]
          ],
          [
           [
            10,
            19
           ]
          ],
          [
           [
            8,
            22
           ]
          ],
          [
           [
            11,
            18
           ]
          ],
          [
           [
            9,
            21
           ]
          ],
          [
           [
            8,
            23
           ]
          ],
          [
           [
            10,
            20
           ]
          ],
          [
           [
            9,
            22
           ]
          ],
          [
           [
            11,
            19
           ]
          ],
          [
           [
            10,
            21
           ]
          ],
          [
           [
            9,
            23
           ]
          ],
          [
           [
            11,
            20
           ]
          ],
          [
           [
            10,
            22
           ]
          ],
          [
           [
            12,
            19
           ]
          ],
          [
           [
            11,
            21
           ]
          ],
          [
           [
            10,
            23
           ]
          ],
          [
           [
            16,
            23
           ]
          ],
          [
           [
            12,
            20
           ]
          ],
          [
           [
            11,
            22
           ]
          ],
          [
           [
            11,
            23
           ]
          ],
          [
           [
            12,
            21
           ]
          ],
          [
           [
            15,
            23
           ]
          ],
          [
           [
            12,
            22
           ]
          ],
          [
           [
            13,
            20
           ]
          ],
          [
           [
            12,
            23
           ]
          ],
          [
           [
            13,
            21
           ]
          ],
          [
           [
            15,
            22
           ]
          ],
          [
           [
            13,
            22
           ]
          ],
          [
           [
            14,
            23
           ]
          ],
          [
           [
            14,
            22
           ]
          ],
          [
           [
            13,
            23
           ]
          ],
          [
           [
            14,
            21
           ]
          ]
         ],
         "hovertemplate": "_index=%{x}<br>mean_test_score=%{y}<br>param_sch=%{customdata[0]}<extra></extra>",
         "legendgroup": "",
         "line": {
          "color": "#636efa",
          "dash": "solid"
         },
         "mode": "lines",
         "name": "",
         "orientation": "v",
         "showlegend": false,
         "type": "scatter",
         "x": [
          0,
          1,
          2,
          3,
          4,
          5,
          6,
          7,
          8,
          9,
          10,
          11,
          12,
          13,
          14,
          15,
          16,
          17,
          18,
          19,
          20,
          21,
          22,
          23,
          24,
          25,
          26,
          27,
          28,
          29,
          30,
          31,
          32,
          33,
          34,
          35,
          36,
          37,
          38,
          39,
          40,
          41,
          42,
          43,
          44,
          45,
          46,
          47,
          48,
          49,
          50,
          51,
          52,
          53,
          54,
          55,
          56,
          57,
          58,
          59,
          60,
          61,
          62,
          63,
          64,
          65,
          66,
          67,
          68,
          69,
          70,
          71,
          72,
          73,
          74,
          75,
          76,
          77,
          78,
          79,
          80,
          81,
          82,
          83,
          84,
          85,
          86,
          87,
          88,
          89,
          90
         ],
         "xaxis": "x",
         "y": [
          1241.968870503371,
          1361.7573471259857,
          1426.5565646685577,
          1547.0814953889303,
          1597.7412613940014,
          1704.2749244886322,
          1723.0063916571464,
          1744.6142735220774,
          1781.8780541255894,
          1864.8107379844848,
          1897.5861533695156,
          1957.0900511725995,
          1972.0260915967588,
          2014.6425818082412,
          2050.5401843126815,
          2066.8639701845286,
          2067.373747014655,
          2071.266151924095,
          2136.322542776643,
          2183.949313868184,
          2187.04661975077,
          2231.558676002931,
          2234.052818902731,
          2241.492426906346,
          2268.470870090762,
          2286.5737849187944,
          2287.233064746136,
          2301.147075707667,
          2320.751986919521,
          2352.0419086887478,
          2368.701957364683,
          2407.80773785404,
          2411.3854194131227,
          2424.8782048573794,
          2426.2602381459087,
          2435.2131671104225,
          2449.187500635471,
          2466.8502663340337,
          2476.851525442289,
          2485.061242023404,
          2490.4217398627416,
          2510.0410576052955,
          2510.2239615853123,
          2519.940196319436,
          2568.029733728522,
          2600.169437313757,
          2600.8690654272154,
          2603.396273112283,
          2610.306859188598,
          2614.2146669628773,
          2686.955527685989,
          2693.6993388519622,
          2726.8425348820774,
          2758.369678449325,
          2762.591253474991,
          2778.8549815069237,
          2783.2362115819915,
          2832.9152883224015,
          2859.6566760839905,
          2869.480148369697,
          2906.420149851042,
          2921.9022026207276,
          2932.20276304642,
          2963.3793658852264,
          2987.1411209005855,
          3003.2853250397948,
          3034.7699751018013,
          3041.367591146253,
          3078.015355714939,
          3088.3830427087687,
          3118.637881112071,
          3136.961686993557,
          3150.923820560579,
          3178.761274135508,
          3179.426852563772,
          3199.3553365070866,
          3209.9941214982427,
          3222.9581550110183,
          3254.2513953275075,
          3254.9145114125467,
          3278.707751844764,
          3285.8019492790795,
          3291.721111550729,
          3305.545993006283,
          3305.705464945907,
          3306.462889145081,
          3318.633602399308,
          3319.445672734634,
          3325.311748900892,
          3326.024599914298,
          3336.732564417715
         ],
         "yaxis": "y"
        }
       ],
       "layout": {
        "legend": {
         "tracegroupgap": 0
        },
        "margin": {
         "t": 60
        },
        "template": {
         "data": {
          "bar": [
           {
            "error_x": {
             "color": "#2a3f5f"
            },
            "error_y": {
             "color": "#2a3f5f"
            },
            "marker": {
             "line": {
              "color": "#E5ECF6",
              "width": 0.5
             },
             "pattern": {
              "fillmode": "overlay",
              "size": 10,
              "solidity": 0.2
             }
            },
            "type": "bar"
           }
          ],
          "barpolar": [
           {
            "marker": {
             "line": {
              "color": "#E5ECF6",
              "width": 0.5
             },
             "pattern": {
              "fillmode": "overlay",
              "size": 10,
              "solidity": 0.2
             }
            },
            "type": "barpolar"
           }
          ],
          "carpet": [
           {
            "aaxis": {
             "endlinecolor": "#2a3f5f",
             "gridcolor": "white",
             "linecolor": "white",
             "minorgridcolor": "white",
             "startlinecolor": "#2a3f5f"
            },
            "baxis": {
             "endlinecolor": "#2a3f5f",
             "gridcolor": "white",
             "linecolor": "white",
             "minorgridcolor": "white",
             "startlinecolor": "#2a3f5f"
            },
            "type": "carpet"
           }
          ],
          "choropleth": [
           {
            "colorbar": {
             "outlinewidth": 0,
             "ticks": ""
            },
            "type": "choropleth"
           }
          ],
          "contour": [
           {
            "colorbar": {
             "outlinewidth": 0,
             "ticks": ""
            },
            "colorscale": [
             [
              0,
              "#0d0887"
             ],
             [
              0.1111111111111111,
              "#46039f"
             ],
             [
              0.2222222222222222,
              "#7201a8"
             ],
             [
              0.3333333333333333,
              "#9c179e"
             ],
             [
              0.4444444444444444,
              "#bd3786"
             ],
             [
              0.5555555555555556,
              "#d8576b"
             ],
             [
              0.6666666666666666,
              "#ed7953"
             ],
             [
              0.7777777777777778,
              "#fb9f3a"
             ],
             [
              0.8888888888888888,
              "#fdca26"
             ],
             [
              1,
              "#f0f921"
             ]
            ],
            "type": "contour"
           }
          ],
          "contourcarpet": [
           {
            "colorbar": {
             "outlinewidth": 0,
             "ticks": ""
            },
            "type": "contourcarpet"
           }
          ],
          "heatmap": [
           {
            "colorbar": {
             "outlinewidth": 0,
             "ticks": ""
            },
            "colorscale": [
             [
              0,
              "#0d0887"
             ],
             [
              0.1111111111111111,
              "#46039f"
             ],
             [
              0.2222222222222222,
              "#7201a8"
             ],
             [
              0.3333333333333333,
              "#9c179e"
             ],
             [
              0.4444444444444444,
              "#bd3786"
             ],
             [
              0.5555555555555556,
              "#d8576b"
             ],
             [
              0.6666666666666666,
              "#ed7953"
             ],
             [
              0.7777777777777778,
              "#fb9f3a"
             ],
             [
              0.8888888888888888,
              "#fdca26"
             ],
             [
              1,
              "#f0f921"
             ]
            ],
            "type": "heatmap"
           }
          ],
          "heatmapgl": [
           {
            "colorbar": {
             "outlinewidth": 0,
             "ticks": ""
            },
            "colorscale": [
             [
              0,
              "#0d0887"
             ],
             [
              0.1111111111111111,
              "#46039f"
             ],
             [
              0.2222222222222222,
              "#7201a8"
             ],
             [
              0.3333333333333333,
              "#9c179e"
             ],
             [
              0.4444444444444444,
              "#bd3786"
             ],
             [
              0.5555555555555556,
              "#d8576b"
             ],
             [
              0.6666666666666666,
              "#ed7953"
             ],
             [
              0.7777777777777778,
              "#fb9f3a"
             ],
             [
              0.8888888888888888,
              "#fdca26"
             ],
             [
              1,
              "#f0f921"
             ]
            ],
            "type": "heatmapgl"
           }
          ],
          "histogram": [
           {
            "marker": {
             "pattern": {
              "fillmode": "overlay",
              "size": 10,
              "solidity": 0.2
             }
            },
            "type": "histogram"
           }
          ],
          "histogram2d": [
           {
            "colorbar": {
             "outlinewidth": 0,
             "ticks": ""
            },
            "colorscale": [
             [
              0,
              "#0d0887"
             ],
             [
              0.1111111111111111,
              "#46039f"
             ],
             [
              0.2222222222222222,
              "#7201a8"
             ],
             [
              0.3333333333333333,
              "#9c179e"
             ],
             [
              0.4444444444444444,
              "#bd3786"
             ],
             [
              0.5555555555555556,
              "#d8576b"
             ],
             [
              0.6666666666666666,
              "#ed7953"
             ],
             [
              0.7777777777777778,
              "#fb9f3a"
             ],
             [
              0.8888888888888888,
              "#fdca26"
             ],
             [
              1,
              "#f0f921"
             ]
            ],
            "type": "histogram2d"
           }
          ],
          "histogram2dcontour": [
           {
            "colorbar": {
             "outlinewidth": 0,
             "ticks": ""
            },
            "colorscale": [
             [
              0,
              "#0d0887"
             ],
             [
              0.1111111111111111,
              "#46039f"
             ],
             [
              0.2222222222222222,
              "#7201a8"
             ],
             [
              0.3333333333333333,
              "#9c179e"
             ],
             [
              0.4444444444444444,
              "#bd3786"
             ],
             [
              0.5555555555555556,
              "#d8576b"
             ],
             [
              0.6666666666666666,
              "#ed7953"
             ],
             [
              0.7777777777777778,
              "#fb9f3a"
             ],
             [
              0.8888888888888888,
              "#fdca26"
             ],
             [
              1,
              "#f0f921"
             ]
            ],
            "type": "histogram2dcontour"
           }
          ],
          "mesh3d": [
           {
            "colorbar": {
             "outlinewidth": 0,
             "ticks": ""
            },
            "type": "mesh3d"
           }
          ],
          "parcoords": [
           {
            "line": {
             "colorbar": {
              "outlinewidth": 0,
              "ticks": ""
             }
            },
            "type": "parcoords"
           }
          ],
          "pie": [
           {
            "automargin": true,
            "type": "pie"
           }
          ],
          "scatter": [
           {
            "marker": {
             "colorbar": {
              "outlinewidth": 0,
              "ticks": ""
             }
            },
            "type": "scatter"
           }
          ],
          "scatter3d": [
           {
            "line": {
             "colorbar": {
              "outlinewidth": 0,
              "ticks": ""
             }
            },
            "marker": {
             "colorbar": {
              "outlinewidth": 0,
              "ticks": ""
             }
            },
            "type": "scatter3d"
           }
          ],
          "scattercarpet": [
           {
            "marker": {
             "colorbar": {
              "outlinewidth": 0,
              "ticks": ""
             }
            },
            "type": "scattercarpet"
           }
          ],
          "scattergeo": [
           {
            "marker": {
             "colorbar": {
              "outlinewidth": 0,
              "ticks": ""
             }
            },
            "type": "scattergeo"
           }
          ],
          "scattergl": [
           {
            "marker": {
             "colorbar": {
              "outlinewidth": 0,
              "ticks": ""
             }
            },
            "type": "scattergl"
           }
          ],
          "scattermapbox": [
           {
            "marker": {
             "colorbar": {
              "outlinewidth": 0,
              "ticks": ""
             }
            },
            "type": "scattermapbox"
           }
          ],
          "scatterpolar": [
           {
            "marker": {
             "colorbar": {
              "outlinewidth": 0,
              "ticks": ""
             }
            },
            "type": "scatterpolar"
           }
          ],
          "scatterpolargl": [
           {
            "marker": {
             "colorbar": {
              "outlinewidth": 0,
              "ticks": ""
             }
            },
            "type": "scatterpolargl"
           }
          ],
          "scatterternary": [
           {
            "marker": {
             "colorbar": {
              "outlinewidth": 0,
              "ticks": ""
             }
            },
            "type": "scatterternary"
           }
          ],
          "surface": [
           {
            "colorbar": {
             "outlinewidth": 0,
             "ticks": ""
            },
            "colorscale": [
             [
              0,
              "#0d0887"
             ],
             [
              0.1111111111111111,
              "#46039f"
             ],
             [
              0.2222222222222222,
              "#7201a8"
             ],
             [
              0.3333333333333333,
              "#9c179e"
             ],
             [
              0.4444444444444444,
              "#bd3786"
             ],
             [
              0.5555555555555556,
              "#d8576b"
             ],
             [
              0.6666666666666666,
              "#ed7953"
             ],
             [
              0.7777777777777778,
              "#fb9f3a"
             ],
             [
              0.8888888888888888,
              "#fdca26"
             ],
             [
              1,
              "#f0f921"
             ]
            ],
            "type": "surface"
           }
          ],
          "table": [
           {
            "cells": {
             "fill": {
              "color": "#EBF0F8"
             },
             "line": {
              "color": "white"
             }
            },
            "header": {
             "fill": {
              "color": "#C8D4E3"
             },
             "line": {
              "color": "white"
             }
            },
            "type": "table"
           }
          ]
         },
         "layout": {
          "annotationdefaults": {
           "arrowcolor": "#2a3f5f",
           "arrowhead": 0,
           "arrowwidth": 1
          },
          "autotypenumbers": "strict",
          "coloraxis": {
           "colorbar": {
            "outlinewidth": 0,
            "ticks": ""
           }
          },
          "colorscale": {
           "diverging": [
            [
             0,
             "#8e0152"
            ],
            [
             0.1,
             "#c51b7d"
            ],
            [
             0.2,
             "#de77ae"
            ],
            [
             0.3,
             "#f1b6da"
            ],
            [
             0.4,
             "#fde0ef"
            ],
            [
             0.5,
             "#f7f7f7"
            ],
            [
             0.6,
             "#e6f5d0"
            ],
            [
             0.7,
             "#b8e186"
            ],
            [
             0.8,
             "#7fbc41"
            ],
            [
             0.9,
             "#4d9221"
            ],
            [
             1,
             "#276419"
            ]
           ],
           "sequential": [
            [
             0,
             "#0d0887"
            ],
            [
             0.1111111111111111,
             "#46039f"
            ],
            [
             0.2222222222222222,
             "#7201a8"
            ],
            [
             0.3333333333333333,
             "#9c179e"
            ],
            [
             0.4444444444444444,
             "#bd3786"
            ],
            [
             0.5555555555555556,
             "#d8576b"
            ],
            [
             0.6666666666666666,
             "#ed7953"
            ],
            [
             0.7777777777777778,
             "#fb9f3a"
            ],
            [
             0.8888888888888888,
             "#fdca26"
            ],
            [
             1,
             "#f0f921"
            ]
           ],
           "sequentialminus": [
            [
             0,
             "#0d0887"
            ],
            [
             0.1111111111111111,
             "#46039f"
            ],
            [
             0.2222222222222222,
             "#7201a8"
            ],
            [
             0.3333333333333333,
             "#9c179e"
            ],
            [
             0.4444444444444444,
             "#bd3786"
            ],
            [
             0.5555555555555556,
             "#d8576b"
            ],
            [
             0.6666666666666666,
             "#ed7953"
            ],
            [
             0.7777777777777778,
             "#fb9f3a"
            ],
            [
             0.8888888888888888,
             "#fdca26"
            ],
            [
             1,
             "#f0f921"
            ]
           ]
          },
          "colorway": [
           "#636efa",
           "#EF553B",
           "#00cc96",
           "#ab63fa",
           "#FFA15A",
           "#19d3f3",
           "#FF6692",
           "#B6E880",
           "#FF97FF",
           "#FECB52"
          ],
          "font": {
           "color": "#2a3f5f"
          },
          "geo": {
           "bgcolor": "white",
           "lakecolor": "white",
           "landcolor": "#E5ECF6",
           "showlakes": true,
           "showland": true,
           "subunitcolor": "white"
          },
          "hoverlabel": {
           "align": "left"
          },
          "hovermode": "closest",
          "mapbox": {
           "style": "light"
          },
          "paper_bgcolor": "white",
          "plot_bgcolor": "#E5ECF6",
          "polar": {
           "angularaxis": {
            "gridcolor": "white",
            "linecolor": "white",
            "ticks": ""
           },
           "bgcolor": "#E5ECF6",
           "radialaxis": {
            "gridcolor": "white",
            "linecolor": "white",
            "ticks": ""
           }
          },
          "scene": {
           "xaxis": {
            "backgroundcolor": "#E5ECF6",
            "gridcolor": "white",
            "gridwidth": 2,
            "linecolor": "white",
            "showbackground": true,
            "ticks": "",
            "zerolinecolor": "white"
           },
           "yaxis": {
            "backgroundcolor": "#E5ECF6",
            "gridcolor": "white",
            "gridwidth": 2,
            "linecolor": "white",
            "showbackground": true,
            "ticks": "",
            "zerolinecolor": "white"
           },
           "zaxis": {
            "backgroundcolor": "#E5ECF6",
            "gridcolor": "white",
            "gridwidth": 2,
            "linecolor": "white",
            "showbackground": true,
            "ticks": "",
            "zerolinecolor": "white"
           }
          },
          "shapedefaults": {
           "line": {
            "color": "#2a3f5f"
           }
          },
          "ternary": {
           "aaxis": {
            "gridcolor": "white",
            "linecolor": "white",
            "ticks": ""
           },
           "baxis": {
            "gridcolor": "white",
            "linecolor": "white",
            "ticks": ""
           },
           "bgcolor": "#E5ECF6",
           "caxis": {
            "gridcolor": "white",
            "linecolor": "white",
            "ticks": ""
           }
          },
          "title": {
           "x": 0.05
          },
          "xaxis": {
           "automargin": true,
           "gridcolor": "white",
           "linecolor": "white",
           "ticks": "",
           "title": {
            "standoff": 15
           },
           "zerolinecolor": "white",
           "zerolinewidth": 2
          },
          "yaxis": {
           "automargin": true,
           "gridcolor": "white",
           "linecolor": "white",
           "ticks": "",
           "title": {
            "standoff": 15
           },
           "zerolinecolor": "white",
           "zerolinewidth": 2
          }
         }
        },
        "xaxis": {
         "anchor": "y",
         "domain": [
          0,
          1
         ],
         "title": {
          "text": "_index"
         }
        },
        "yaxis": {
         "anchor": "x",
         "domain": [
          0,
          1
         ],
         "title": {
          "text": "mean_test_score"
         }
        }
       }
      }
     },
     "metadata": {},
     "output_type": "display_data"
    }
   ],
   "source": [
    "a = pd.DataFrame(gs_dt.cv_results_).sort_values('mean_test_score', ascending=True).reset_index()\n",
    "a\n",
    "px.line(a, y='mean_test_score', hover_data=[\"mean_test_score\", \"param_sch\"])"
   ]
  },
  {
   "cell_type": "code",
   "execution_count": null,
   "id": "b1c2be80",
   "metadata": {},
   "outputs": [],
   "source": []
  }
 ],
 "metadata": {
  "interpreter": {
   "hash": "843661963fe4cefa2ec0f06930bd4fcd95fc29575636d3d8b89d95d37a8304b1"
  },
  "kernelspec": {
   "display_name": "Python 3.8.5 ('base')",
   "language": "python",
   "name": "python3"
  },
  "language_info": {
   "codemirror_mode": {
    "name": "ipython",
    "version": 3
   },
   "file_extension": ".py",
   "mimetype": "text/x-python",
   "name": "python",
   "nbconvert_exporter": "python",
   "pygments_lexer": "ipython3",
   "version": "3.8.5"
  }
 },
 "nbformat": 4,
 "nbformat_minor": 5
}
