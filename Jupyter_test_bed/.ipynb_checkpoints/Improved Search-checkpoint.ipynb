{
 "cells": [
  {
   "cell_type": "code",
   "execution_count": 7,
   "id": "8df4de5b",
   "metadata": {},
   "outputs": [],
   "source": [
    "import os\n",
    "import pathlib\n",
    "import datetime\n",
    "import warnings\n",
    "from tqdm.notebook import tqdm\n",
    "\n",
    "import pandas as pd\n",
    "import numpy as np\n",
    "import pickle as plk\n",
    "\n",
    "import matplotlib.pyplot as plt\n",
    "%matplotlib inline  \n",
    "\n",
    "import pwlf\n",
    "import sklearn\n",
    "from sklearn.base import BaseEstimator, TransformerMixin\n",
    "from sklearn.base import BaseEstimator, ClassifierMixin\n",
    "from sklearn.utils.validation import check_is_fitted\n",
    "from sklearn.metrics import mean_absolute_error, mean_squared_error\n",
    "import sklearn.pipeline"
   ]
  },
  {
   "cell_type": "code",
   "execution_count": 3,
   "id": "9121e040",
   "metadata": {},
   "outputs": [],
   "source": [
    "# Mimic drop down\n",
    "building_dropdown = 'CD Howe'\n",
    "year_dropdown = 2019"
   ]
  },
  {
   "cell_type": "code",
   "execution_count": 4,
   "id": "f1b8f391",
   "metadata": {},
   "outputs": [],
   "source": [
    "# Import Data\n",
    "PATH = pathlib.Path().parent.parent\n",
    "DATA_PATH = PATH.joinpath(\"../app/data\").resolve()\n",
    "\n",
    "with open(DATA_PATH.joinpath(f'{building_dropdown}/Energy/_energyData.pkl'), 'rb') as f:\n",
    "    energy_df = plk.load(f)\n",
    "\n",
    "with open(DATA_PATH.joinpath(f'Supporting/Weather/Ottawa.pkl'), 'rb') as f:\n",
    "    weather_df = plk.load(f)\n",
    "                          \n",
    "with open(DATA_PATH.joinpath(f'Supporting/Weather/Ottawa_TMY.pkl'), 'rb') as f:\n",
    "    weather_TMY = plk.load(f)\n",
    "                          \n",
    "    \n",
    "df_all = pd.merge(energy_df, weather_df, how='outer', left_index=True, right_index=True)\n",
    "df_all = df_all[df_all.index < datetime.datetime(2020, 10, 1, 0, 0, 0)]\n",
    "df = df_all[df_all.index.year == year_dropdown]\n"
   ]
  },
  {
   "cell_type": "code",
   "execution_count": 5,
   "id": "4b9c71bc",
   "metadata": {},
   "outputs": [],
   "source": [
    "def seperate_data_by_Schedule(Data, workday, weekend_schedule=None):\n",
    "    \n",
    "    DataWeekend = Data[Data.index.weekday > 4]\n",
    "    DataWeekday = Data[Data.index.weekday < 5]\n",
    "    \n",
    "    DataWeekdayOff = DataWeekday[(DataWeekday.index.hour <= workday[0]) | (DataWeekday.index.hour > workday[1])]\n",
    "    DataWeekdayOn = DataWeekday[(DataWeekday.index.hour > workday[0]) & (DataWeekday.index.hour <= workday[1])]\n",
    "    \n",
    "    if weekend_schedule is None:\n",
    "        DataOffSchedule = pd.concat([DataWeekend, DataWeekdayOff])\n",
    "        DataOnSchedule = DataWeekdayOn\n",
    "\n",
    "    else:\n",
    "        DataWeekendOff = DataWeekend[(DataWeekend.index.hour <= weekend_schedule[0]) | (DataWeekend.index.hour > weekend_schedule[1])]\n",
    "        DataWeekendOn = DataWeekend[(DataWeekend.index.hour > weekend_schedule[0]) & (DataWeekend.index.hour <= weekend_schedule[1])]        \n",
    "        \n",
    "        DataOffSchedule = pd.concat([DataWeekdayOff, DataWeekendOff])\n",
    "        DataOnSchedule = pd.concat([DataWeekdayOn, DataWeekendOn])\n",
    "\n",
    "    return DataOnSchedule, DataOffSchedule"
   ]
  },
  {
   "cell_type": "code",
   "execution_count": 6,
   "id": "61da2f90",
   "metadata": {},
   "outputs": [
    {
     "data": {
      "text/plain": [
       "(<pwlf.pwlf.PiecewiseLinFit at 0x1d91fda4430>,\n",
       " <pwlf.pwlf.PiecewiseLinFit at 0x1d91fda4790>,\n",
       " 1110.9095564229992)"
      ]
     },
     "execution_count": 6,
     "metadata": {},
     "output_type": "execute_result"
    }
   ],
   "source": [
    "def LinModel(Data, parameter, sch, weekend_schedule=None):\n",
    "    # clean data for\n",
    "    linData = Data.copy()\n",
    "    linData = linData.dropna(subset=['temperature', parameter])\n",
    "    linData = linData[linData[parameter] != 0]\n",
    "\n",
    "    linDataOnSchedule, linDataOffSchedule = seperate_data_by_Schedule(linData, sch, weekend_schedule)\n",
    "\n",
    "    X_On = linDataOnSchedule['temperature'].to_numpy()\n",
    "    Y_On = linDataOnSchedule[parameter].to_numpy()\n",
    "    X_Off = linDataOffSchedule['temperature'].to_numpy()\n",
    "    Y_Off = linDataOffSchedule[parameter].to_numpy()\n",
    "\n",
    "    ## Find Change Point Models\n",
    "    with warnings.catch_warnings():\n",
    "        warnings.simplefilter('ignore')\n",
    "        pwlf_On = pwlf.PiecewiseLinFit(linDataOnSchedule['temperature'].to_numpy(), linDataOnSchedule[parameter].to_numpy())\n",
    "        cpts_On = pwlf_On.fit(2)\n",
    "        pwlf_Off = pwlf.PiecewiseLinFit(linDataOffSchedule['temperature'].to_numpy(),\n",
    "                                        linDataOffSchedule[parameter].to_numpy())\n",
    "        cpts_Off = pwlf_Off.fit(2)\n",
    "\n",
    "    Y_On_Fit = pwlf_On.predict(X_On)\n",
    "    Y_Off_Fit = pwlf_Off.predict(X_Off)\n",
    "    \n",
    "    y = np.concatenate([Y_On, Y_Off])\n",
    "    y_hat = np.concatenate([Y_On_Fit, Y_Off_Fit])\n",
    "    y_bar = np.mean(y)\n",
    "\n",
    "    RMSE = mean_squared_error(y, y_hat, squared=False)\n",
    "    \n",
    "    return pwlf_On, pwlf_Off, RMSE\n",
    "\n",
    "\n",
    "    \n",
    "LinModel(df, 'chilledWater', [5, 17])"
   ]
  },
  {
   "cell_type": "code",
   "execution_count": null,
   "id": "b9767c93",
   "metadata": {},
   "outputs": [],
   "source": []
  },
  {
   "cell_type": "code",
   "execution_count": null,
   "id": "62837b89",
   "metadata": {},
   "outputs": [],
   "source": [
    "class silly_estimator(BaseEstimator, ClassifierMixin):\n",
    "    \"\"\"\n",
    "    This estimator is not acually that usefull. its only purpose is to show a relatively simple predictor.\n",
    "    It simply takes a list of all unique y outputs and selects which one to use base on the guess_number\n",
    "    inputer hyperparameter. It does not do anything with the x inputs.\n",
    "    \"\"\"\n",
    "    def __init__(self, parmeter=None, sch=None, weekend_sch=None):\n",
    "        '''\n",
    "        Reqired function. This allows class hyperparameter inputs\n",
    "        ***Important note: make sure your class names are the same as your input names,\n",
    "            otherwise the random search will not work.\n",
    "        '''\n",
    "        self.parmeter = parmeter\n",
    "        self.sch = sch\n",
    "        self.weekend_sch = weekend_sch\n",
    "        return None\n",
    "        \n",
    "    def fit(self, x, y):\n",
    "        linData = Data.copy()\n",
    "        linData = linData.dropna(subset=['temperature', parameter])\n",
    "        linData = linData[linData[parameter] != 0]\n",
    "        return self\n",
    "    \n",
    "    def predict(self, x):\n",
    "        length, _ = x.shape\n",
    "        guess = self.options[self.guess_number]\n",
    "        return np.full((length,), guess).tolist()\n",
    "    \n",
    "    def score(self, x, y):\n",
    "        \"\"\"\n",
    "        score is reqired so the random search knows what is the best estimator\n",
    "        \"\"\"\n",
    "        y_pred = self.predict(x)\n",
    "        return sklearn.metrics.accuracy_score(y, y_pred)"
   ]
  },
  {
   "cell_type": "code",
   "execution_count": null,
   "id": "f196d7ab",
   "metadata": {},
   "outputs": [],
   "source": []
  }
 ],
 "metadata": {
  "kernelspec": {
   "display_name": "Python 3",
   "language": "python",
   "name": "python3"
  },
  "language_info": {
   "codemirror_mode": {
    "name": "ipython",
    "version": 3
   },
   "file_extension": ".py",
   "mimetype": "text/x-python",
   "name": "python",
   "nbconvert_exporter": "python",
   "pygments_lexer": "ipython3",
   "version": "3.8.5"
  }
 },
 "nbformat": 4,
 "nbformat_minor": 5
}
