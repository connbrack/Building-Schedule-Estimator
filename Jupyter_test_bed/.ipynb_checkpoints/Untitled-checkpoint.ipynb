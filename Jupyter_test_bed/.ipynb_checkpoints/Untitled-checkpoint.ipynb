{
 "cells": [
  {
   "cell_type": "code",
   "execution_count": 1,
   "id": "51eba711",
   "metadata": {},
   "outputs": [],
   "source": [
    "import plotly.express as px\n",
    "import plotly.graph_objects as go\n",
    "import pandas as pd\n",
    "import pathlib\n",
    "from mpl_toolkits import mplot3d\n",
    "import matplotlib.pyplot as plt\n",
    "%matplotlib inline  \n",
    "import numpy as np\n",
    "import pickle as plk\n",
    "import pwlf\n",
    "import os\n",
    "from tqdm.notebook import tqdm\n",
    "\n",
    "import plotly.express as px"
   ]
  },
  {
   "cell_type": "code",
   "execution_count": 2,
   "id": "ac365ff4",
   "metadata": {},
   "outputs": [],
   "source": [
    "# Mimic drop down\n",
    "building_dropdown = 'CD Howe'\n",
    "year_dropdown = 2019"
   ]
  },
  {
   "cell_type": "code",
   "execution_count": 3,
   "id": "99b8ca04",
   "metadata": {},
   "outputs": [],
   "source": [
    "# Import Data\n",
    "PATH = pathlib.Path().parent.parent\n",
    "DATA_PATH = PATH.joinpath(\"../app/data\").resolve()\n",
    "\n",
    "with open(DATA_PATH.joinpath(f'{building_dropdown}/Energy/_energyData.pkl'), 'rb') as f:\n",
    "    energy_df = plk.load(f)\n",
    "\n",
    "with open(DATA_PATH.joinpath(f'Supporting/Weather/Ottawa.pkl'), 'rb') as f:\n",
    "    weather_df = plk.load(f)\n",
    "    \n",
    "df_all = pd.merge(energy_df, weather_df, how='outer', left_index=True, right_index=True)\n",
    "df = df_all[df_all.index.year == year_dropdown]\n"
   ]
  },
  {
   "cell_type": "code",
   "execution_count": 4,
   "id": "812c9eec",
   "metadata": {},
   "outputs": [],
   "source": [
    "steam_line=[[5, 17], np.array([-26.8      ,   2.7013179,  14.8465908,  32.3      ]), np.array([23014.69570784,  8437.05520873,  1101.6920742 ,  -557.85267625]), np.array([-26.3       ,   1.79999962,  11.9995312 ,  30.6       ]), np.array([18008.10193165,  7037.52934693,  1342.43233668,  -897.59210098])]"
   ]
  },
  {
   "cell_type": "code",
   "execution_count": 5,
   "id": "f73a6ad0",
   "metadata": {},
   "outputs": [],
   "source": [
    "def seperate_data_by_Schedule(Data, workDayStart, workDayEnd, WeekendSplit):\n",
    "    if WeekendSplit:\n",
    "        DataWeekend = Data[Data.index.weekday > 4]\n",
    "        DataWeekday = Data[Data.index.weekday < 5]\n",
    "        DataEvening = DataWeekday[(DataWeekday.index.hour <= workDayStart) | (DataWeekday.index.hour > workDayEnd)]\n",
    "        DataOffSchedule = pd.concat([DataWeekend, DataEvening])\n",
    "        DataOnSchedule = DataWeekday[(DataWeekday.index.hour > workDayStart) & (DataWeekday.index.hour <= workDayEnd)]\n",
    "\n",
    "    else:\n",
    "        DataOffSchedule = Data[(Data.index.hour <= workDayStart) | (Data.index.hour > workDayEnd)]\n",
    "        DataOnSchedule = Data[(Data.index.hour > workDayStart) & (Data.index.hour <= workDayEnd)]\n",
    "\n",
    "    return DataOnSchedule, DataOffSchedule\n",
    "\n",
    "\n",
    "def schedule_seperate_graph(data, sch, parameter, color_on, color_off, fit_line, color_line_on, color_line_off, weekend_included=True):\n",
    "    \"\"\"\n",
    "\n",
    "    :param data: Dataframe with combined energy data and\n",
    "    :param sch: Start and end of occupied period as dictionary [start, end]\n",
    "    :param parameter: steam/chilledWater/electrical\n",
    "    :param color_on:\n",
    "    :param color_off:\n",
    "    :return: Figure with coloured\n",
    "    \"\"\"\n",
    "\n",
    "    DataOnSchedule, DataOffSchedule = seperate_data_by_Schedule(data, sch[0], sch[1], weekend_included)\n",
    "\n",
    "    fig = go.Figure()\n",
    "    fig.add_scatter(name='Off Schedule', x=DataOffSchedule.temperature, y=DataOffSchedule[parameter],\n",
    "                    customdata=DataOffSchedule.index, mode='markers', marker=dict(color=color_off))\n",
    "    fig.add_scatter(name='On Schedule', x=DataOnSchedule.temperature, y=DataOnSchedule[parameter],\n",
    "                    customdata=DataOnSchedule.index, mode='markers', marker=dict(color=color_on))\n",
    "    \n",
    "    if fit_line != []:\n",
    "        if fit_line[0] == sch:\n",
    "    \n",
    "            fig.add_scatter(name='_nolegend_', x=fit_line[1], y=fit_line[2], marker=dict(color=color_line_on), showlegend=False)  \n",
    "            fig.add_scatter(name='_nolegend_', x=fit_line[3], y=fit_line[4], marker=dict(color=color_line_off), showlegend=False)   \n",
    "    \n",
    "    \n",
    "    fig.update_layout(template=\"none\", xaxis_title=\"Outdoor Temperature\", yaxis_title=\"Energy (GJ/hr)\")\n",
    "    fig.update_layout(legend=dict(\n",
    "        yanchor=\"top\",\n",
    "        y=-0.1,\n",
    "        xanchor=\"left\",\n",
    "        x=0.99\n",
    "    ))\n",
    "    fig.update_traces(hovertemplate='Energy: %{y}<br>Date: %{customdata}')\n",
    "    return fig\n",
    "\n",
    "# schedule_seperate_graph(df, [5, 17], 'steam', 'red', 'LightCoral', steam_line, 'black', 'grey', weekend_included=False)"
   ]
  },
  {
   "cell_type": "code",
   "execution_count": 6,
   "id": "98c30f22",
   "metadata": {},
   "outputs": [],
   "source": [
    "from sklearn.metrics import mean_squared_error\n",
    "import warnings\n",
    "\n",
    "def coefficient_of_determination(ys_orig, ys_line):\n",
    "    y_mean_line = np.mean(ys_orig)\n",
    "    squared_error_res = np.sum((ys_orig - ys_line) ** 2)\n",
    "    squared_error_tot = np.sum((ys_orig - y_mean_line) ** 2)\n",
    "    return 1 - (squared_error_res / squared_error_tot)\n",
    "\n",
    "def LinModel(Data, sch, parameter, WeekendSplit=True):\n",
    "    # clean data for\n",
    "    linData = Data.copy()\n",
    "    linData = linData.dropna(subset=['temperature', parameter])\n",
    "    linData = linData[linData[parameter] != 0]\n",
    "\n",
    "    linDataOnSchedule, linDataOffSchedule = seperate_data_by_Schedule(linData, sch[0], sch[1], WeekendSplit)\n",
    "\n",
    "    X_On = linDataOnSchedule['temperature'].to_numpy()\n",
    "    Y_On = linDataOnSchedule[parameter].to_numpy()\n",
    "    X_Off = linDataOffSchedule['temperature'].to_numpy()\n",
    "    Y_Off = linDataOffSchedule[parameter].to_numpy()\n",
    "\n",
    "    ## Find Change Point Models\n",
    "    with warnings.catch_warnings():\n",
    "        warnings.simplefilter('ignore')\n",
    "        pwlf_On = pwlf.PiecewiseLinFit(linDataOnSchedule['temperature'].to_numpy(), linDataOnSchedule[parameter].to_numpy())\n",
    "        cpts_On = pwlf_On.fit(3)\n",
    "        pwlf_Off = pwlf.PiecewiseLinFit(linDataOffSchedule['temperature'].to_numpy(),\n",
    "                                        linDataOffSchedule[parameter].to_numpy())\n",
    "        cpts_Off = pwlf_Off.fit(3)\n",
    "\n",
    "    Y_On_Fit = pwlf_On.predict(X_On)\n",
    "    Y_Off_Fit = pwlf_Off.predict(X_Off)\n",
    "\n",
    "#     r2 = coefficient_of_determination(np.concatenate([Y_On, Y_Off]), np.concatenate([Y_On_Fit, Y_Off_Fit]))\n",
    "    MAE = mean_squared_error(np.concatenate([Y_On, Y_Off]), np.concatenate([Y_On_Fit, Y_Off_Fit]), squared=False)\n",
    "\n",
    "    return pwlf_On, pwlf_Off, MAE\n",
    "\n",
    "# pwlf_On, pwlf_Off, MAE = LinModel(df, [6, 18], 'electricity')\n",
    "# MAE"
   ]
  },
  {
   "cell_type": "code",
   "execution_count": 7,
   "id": "651b83b7",
   "metadata": {
    "scrolled": true
   },
   "outputs": [],
   "source": [
    "def detect_schedule(data, parameter, weekend_split=True, output_all_sch=False):\n",
    "    # PreProcess for Change Point Change Point Analysis\n",
    "    linData = data.copy()\n",
    "    linData = linData.dropna(subset=['temperature', parameter])\n",
    "#     linData = linData[linData[paramater] != 0]\n",
    "    \n",
    "    r2_tot_max = -50000\n",
    "    \n",
    "    search_start = 1\n",
    "    min_sch_len = 1\n",
    "    \n",
    "    #Generate Schedule List\n",
    "    schs = []\n",
    "    for workDayStart in range(search_start, 24-min_sch_len):\n",
    "        for workDayEnd in range(workDayStart+min_sch_len, 24):\n",
    "            schs.append([float(workDayStart), float(workDayEnd)])\n",
    "\n",
    "    # Def main schedule finding function\n",
    "    results = np.empty((0,3), int)\n",
    "    for sch in tqdm(schs, leave=False):\n",
    "        pwlf_On, pwlf_Off, MAE = LinModel(data, sch, parameter, weekend_split)\n",
    "        results = np.append(results, np.array([[sch[0], sch[1], MAE]]), axis=0)\n",
    "    \n",
    "    if output_all_sch==False:\n",
    "        best_sch = results[np.argmin(results[:,2])]    \n",
    "        return best_sch\n",
    "    else:\n",
    "        return results\n",
    "                      \n",
    "# detect_schedule(df, \"steam\")"
   ]
  },
  {
   "cell_type": "code",
   "execution_count": 44,
   "id": "dcb1b88f",
   "metadata": {},
   "outputs": [
    {
     "data": {
      "application/vnd.jupyter.widget-view+json": {
       "model_id": "d3a772ec2744419eb660e9757495f6f7",
       "version_major": 2,
       "version_minor": 0
      },
      "text/plain": [
       "  0%|          | 0/4 [00:00<?, ?it/s]"
      ]
     },
     "metadata": {},
     "output_type": "display_data"
    },
    {
     "data": {
      "application/vnd.jupyter.widget-view+json": {
       "model_id": "",
       "version_major": 2,
       "version_minor": 0
      },
      "text/plain": [
       "  0%|          | 0/78 [00:00<?, ?it/s]"
      ]
     },
     "metadata": {},
     "output_type": "display_data"
    },
    {
     "data": {
      "application/vnd.jupyter.widget-view+json": {
       "model_id": "",
       "version_major": 2,
       "version_minor": 0
      },
      "text/plain": [
       "  0%|          | 0/78 [00:00<?, ?it/s]"
      ]
     },
     "metadata": {},
     "output_type": "display_data"
    },
    {
     "data": {
      "application/vnd.jupyter.widget-view+json": {
       "model_id": "",
       "version_major": 2,
       "version_minor": 0
      },
      "text/plain": [
       "  0%|          | 0/78 [00:00<?, ?it/s]"
      ]
     },
     "metadata": {},
     "output_type": "display_data"
    },
    {
     "data": {
      "application/vnd.jupyter.widget-view+json": {
       "model_id": "",
       "version_major": 2,
       "version_minor": 0
      },
      "text/plain": [
       "  0%|          | 0/78 [00:00<?, ?it/s]"
      ]
     },
     "metadata": {},
     "output_type": "display_data"
    },
    {
     "data": {
      "application/vnd.jupyter.widget-view+json": {
       "model_id": "",
       "version_major": 2,
       "version_minor": 0
      },
      "text/plain": [
       "  0%|          | 0/78 [00:00<?, ?it/s]"
      ]
     },
     "metadata": {},
     "output_type": "display_data"
    },
    {
     "data": {
      "application/vnd.jupyter.widget-view+json": {
       "model_id": "",
       "version_major": 2,
       "version_minor": 0
      },
      "text/plain": [
       "  0%|          | 0/78 [00:00<?, ?it/s]"
      ]
     },
     "metadata": {},
     "output_type": "display_data"
    },
    {
     "data": {
      "application/vnd.jupyter.widget-view+json": {
       "model_id": "",
       "version_major": 2,
       "version_minor": 0
      },
      "text/plain": [
       "  0%|          | 0/78 [00:00<?, ?it/s]"
      ]
     },
     "metadata": {},
     "output_type": "display_data"
    },
    {
     "data": {
      "application/vnd.jupyter.widget-view+json": {
       "model_id": "",
       "version_major": 2,
       "version_minor": 0
      },
      "text/plain": [
       "  0%|          | 0/78 [00:00<?, ?it/s]"
      ]
     },
     "metadata": {},
     "output_type": "display_data"
    },
    {
     "data": {
      "application/vnd.jupyter.widget-view+json": {
       "model_id": "",
       "version_major": 2,
       "version_minor": 0
      },
      "text/plain": [
       "  0%|          | 0/78 [00:00<?, ?it/s]"
      ]
     },
     "metadata": {},
     "output_type": "display_data"
    },
    {
     "data": {
      "application/vnd.jupyter.widget-view+json": {
       "model_id": "",
       "version_major": 2,
       "version_minor": 0
      },
      "text/plain": [
       "  0%|          | 0/78 [00:00<?, ?it/s]"
      ]
     },
     "metadata": {},
     "output_type": "display_data"
    },
    {
     "data": {
      "application/vnd.jupyter.widget-view+json": {
       "model_id": "",
       "version_major": 2,
       "version_minor": 0
      },
      "text/plain": [
       "  0%|          | 0/78 [00:00<?, ?it/s]"
      ]
     },
     "metadata": {},
     "output_type": "display_data"
    },
    {
     "data": {
      "application/vnd.jupyter.widget-view+json": {
       "model_id": "",
       "version_major": 2,
       "version_minor": 0
      },
      "text/plain": [
       "  0%|          | 0/78 [00:00<?, ?it/s]"
      ]
     },
     "metadata": {},
     "output_type": "display_data"
    }
   ],
   "source": [
    "steam_sch=[]\n",
    "water_sch=[]\n",
    "elec_sch=[]\n",
    "for year in tqdm(range(2017,2021)):\n",
    "    df = df_all[df_all.index.year == year]\n",
    "    steam_sch.append(detect_schedule(df, \"steam\"))\n",
    "    water_sch.append(detect_schedule(df, \"chilledWater\"))\n",
    "    elec_sch.append(detect_schedule(df, \"electricity\"))"
   ]
  },
  {
   "cell_type": "code",
   "execution_count": 45,
   "id": "5b67c2f3",
   "metadata": {},
   "outputs": [
    {
     "data": {
      "text/plain": [
       "array([['steam', '2017', '6.0', '17.0', '1717.7869633296573'],\n",
       "       ['steam', '2018', '6.0', '17.0', '1468.9442063754816'],\n",
       "       ['steam', '2019', '5.0', '17.0', '1675.3416035026141'],\n",
       "       ['steam', '2020', '5.0', '17.0', '2021.7152617288098']],\n",
       "      dtype='<U32')"
      ]
     },
     "execution_count": 45,
     "metadata": {},
     "output_type": "execute_result"
    }
   ],
   "source": [
    "parameter_mat = 'steam'\n",
    "info_mat = np.array([[parameter_mat, 2017], [parameter_mat, 2018], [parameter_mat, 2019], [parameter_mat, 2020]])\n",
    "steam_sch_2 = np.hstack((info_mat, steam_sch))\n",
    "steam_sch_2"
   ]
  },
  {
   "cell_type": "code",
   "execution_count": 46,
   "id": "a0a62574",
   "metadata": {},
   "outputs": [
    {
     "data": {
      "text/plain": [
       "array([['chilledWater', '2017', '5.0', '17.0', '1171.147132436963'],\n",
       "       ['chilledWater', '2018', '5.0', '17.0', '1333.2172926985234'],\n",
       "       ['chilledWater', '2019', '5.0', '17.0', '1100.7804908590722'],\n",
       "       ['chilledWater', '2020', '5.0', '17.0', '1215.2331087088678']],\n",
       "      dtype='<U32')"
      ]
     },
     "execution_count": 46,
     "metadata": {},
     "output_type": "execute_result"
    }
   ],
   "source": [
    "parameter_mat = 'chilledWater'\n",
    "info_mat = np.array([[parameter_mat, 2017], [parameter_mat, 2018], [parameter_mat, 2019], [parameter_mat, 2020]])\n",
    "water_sch_2 = np.hstack((info_mat, water_sch))\n",
    "water_sch_2"
   ]
  },
  {
   "cell_type": "code",
   "execution_count": 47,
   "id": "07f2fc27",
   "metadata": {},
   "outputs": [
    {
     "data": {
      "text/plain": [
       "array([['electricity', '2017', '6.0', '18.0', '1402.459547875476'],\n",
       "       ['electricity', '2018', '6.0', '18.0', '2851.3591283751994'],\n",
       "       ['electricity', '2019', '6.0', '18.0', '1917.2796496081105'],\n",
       "       ['electricity', '2020', '6.0', '18.0', '1608.256488737369']],\n",
       "      dtype='<U32')"
      ]
     },
     "execution_count": 47,
     "metadata": {},
     "output_type": "execute_result"
    }
   ],
   "source": [
    "parameter_mat = 'electricity'\n",
    "info_mat = np.array([[parameter_mat, 2017], [parameter_mat, 2018], [parameter_mat, 2019], [parameter_mat, 2020]])\n",
    "elec_sch_2 = np.hstack((info_mat, elec_sch))\n",
    "elec_sch_2"
   ]
  },
  {
   "cell_type": "code",
   "execution_count": 48,
   "id": "8b5cd34d",
   "metadata": {},
   "outputs": [],
   "source": [
    "sch_summary = np.vstack((steam_sch_2, water_sch_2, elec_sch_2))\n",
    "sch_summary = pd.DataFrame(sch_summary, columns=['parameter', 'year', 'start_sch', 'end_sch', 'MAE'])\n",
    "sch_summary\n",
    "\n",
    "with open('schedule_summary.pkl', 'wb') as f:\n",
    "    plk.dump(sch_summary, f)"
   ]
  },
  {
   "cell_type": "code",
   "execution_count": 9,
   "id": "ae19955e",
   "metadata": {},
   "outputs": [
    {
     "data": {
      "text/html": [
       "<div>\n",
       "<style scoped>\n",
       "    .dataframe tbody tr th:only-of-type {\n",
       "        vertical-align: middle;\n",
       "    }\n",
       "\n",
       "    .dataframe tbody tr th {\n",
       "        vertical-align: top;\n",
       "    }\n",
       "\n",
       "    .dataframe thead th {\n",
       "        text-align: right;\n",
       "    }\n",
       "</style>\n",
       "<table border=\"1\" class=\"dataframe\">\n",
       "  <thead>\n",
       "    <tr style=\"text-align: right;\">\n",
       "      <th></th>\n",
       "      <th>parameter</th>\n",
       "      <th>year</th>\n",
       "      <th>start_sch</th>\n",
       "      <th>end_sch</th>\n",
       "      <th>MAE</th>\n",
       "    </tr>\n",
       "  </thead>\n",
       "  <tbody>\n",
       "    <tr>\n",
       "      <th>0</th>\n",
       "      <td>steam</td>\n",
       "      <td>2017</td>\n",
       "      <td>6.0</td>\n",
       "      <td>17.0</td>\n",
       "      <td>1717.7869633296573</td>\n",
       "    </tr>\n",
       "    <tr>\n",
       "      <th>1</th>\n",
       "      <td>steam</td>\n",
       "      <td>2018</td>\n",
       "      <td>6.0</td>\n",
       "      <td>17.0</td>\n",
       "      <td>1468.9442063754816</td>\n",
       "    </tr>\n",
       "    <tr>\n",
       "      <th>2</th>\n",
       "      <td>steam</td>\n",
       "      <td>2019</td>\n",
       "      <td>5.0</td>\n",
       "      <td>17.0</td>\n",
       "      <td>1675.3416035026141</td>\n",
       "    </tr>\n",
       "    <tr>\n",
       "      <th>3</th>\n",
       "      <td>steam</td>\n",
       "      <td>2020</td>\n",
       "      <td>5.0</td>\n",
       "      <td>17.0</td>\n",
       "      <td>2021.7152617288098</td>\n",
       "    </tr>\n",
       "    <tr>\n",
       "      <th>4</th>\n",
       "      <td>chilledWater</td>\n",
       "      <td>2017</td>\n",
       "      <td>5.0</td>\n",
       "      <td>17.0</td>\n",
       "      <td>1171.147132436963</td>\n",
       "    </tr>\n",
       "    <tr>\n",
       "      <th>5</th>\n",
       "      <td>chilledWater</td>\n",
       "      <td>2018</td>\n",
       "      <td>5.0</td>\n",
       "      <td>17.0</td>\n",
       "      <td>1333.2172926985234</td>\n",
       "    </tr>\n",
       "    <tr>\n",
       "      <th>6</th>\n",
       "      <td>chilledWater</td>\n",
       "      <td>2019</td>\n",
       "      <td>5.0</td>\n",
       "      <td>17.0</td>\n",
       "      <td>1100.7804908590722</td>\n",
       "    </tr>\n",
       "    <tr>\n",
       "      <th>7</th>\n",
       "      <td>chilledWater</td>\n",
       "      <td>2020</td>\n",
       "      <td>5.0</td>\n",
       "      <td>17.0</td>\n",
       "      <td>1215.2331087088678</td>\n",
       "    </tr>\n",
       "    <tr>\n",
       "      <th>8</th>\n",
       "      <td>electricity</td>\n",
       "      <td>2017</td>\n",
       "      <td>6.0</td>\n",
       "      <td>18.0</td>\n",
       "      <td>1402.459547875476</td>\n",
       "    </tr>\n",
       "    <tr>\n",
       "      <th>9</th>\n",
       "      <td>electricity</td>\n",
       "      <td>2018</td>\n",
       "      <td>6.0</td>\n",
       "      <td>18.0</td>\n",
       "      <td>2851.3591283751994</td>\n",
       "    </tr>\n",
       "    <tr>\n",
       "      <th>10</th>\n",
       "      <td>electricity</td>\n",
       "      <td>2019</td>\n",
       "      <td>6.0</td>\n",
       "      <td>18.0</td>\n",
       "      <td>1917.2796496081105</td>\n",
       "    </tr>\n",
       "    <tr>\n",
       "      <th>11</th>\n",
       "      <td>electricity</td>\n",
       "      <td>2020</td>\n",
       "      <td>6.0</td>\n",
       "      <td>18.0</td>\n",
       "      <td>1608.256488737369</td>\n",
       "    </tr>\n",
       "  </tbody>\n",
       "</table>\n",
       "</div>"
      ],
      "text/plain": [
       "       parameter  year start_sch end_sch                 MAE\n",
       "0          steam  2017       6.0    17.0  1717.7869633296573\n",
       "1          steam  2018       6.0    17.0  1468.9442063754816\n",
       "2          steam  2019       5.0    17.0  1675.3416035026141\n",
       "3          steam  2020       5.0    17.0  2021.7152617288098\n",
       "4   chilledWater  2017       5.0    17.0   1171.147132436963\n",
       "5   chilledWater  2018       5.0    17.0  1333.2172926985234\n",
       "6   chilledWater  2019       5.0    17.0  1100.7804908590722\n",
       "7   chilledWater  2020       5.0    17.0  1215.2331087088678\n",
       "8    electricity  2017       6.0    18.0   1402.459547875476\n",
       "9    electricity  2018       6.0    18.0  2851.3591283751994\n",
       "10   electricity  2019       6.0    18.0  1917.2796496081105\n",
       "11   electricity  2020       6.0    18.0   1608.256488737369"
      ]
     },
     "execution_count": 9,
     "metadata": {},
     "output_type": "execute_result"
    }
   ],
   "source": [
    "with open('schedule_summary.pkl', 'rb') as f:\n",
    "    summary = plk.load(f)\n",
    "    \n",
    "with open('Ottawa_TMY.pkl', 'rb') as f:\n",
    "    normal_weather = plk.load(f)\n",
    "    \n",
    "summary"
   ]
  },
  {
   "cell_type": "code",
   "execution_count": 51,
   "id": "7fd39298",
   "metadata": {},
   "outputs": [
    {
     "data": {
      "application/vnd.jupyter.widget-view+json": {
       "model_id": "5b86bd48b26a48589841520cc1518469",
       "version_major": 2,
       "version_minor": 0
      },
      "text/plain": [
       "0it [00:00, ?it/s]"
      ]
     },
     "metadata": {},
     "output_type": "display_data"
    },
    {
     "name": "stdout",
     "output_type": "stream",
     "text": [
      "[[6.19965278e+07 5.10560141e+07 1.76469781e+01]\n",
      " [6.44187169e+07 5.19751842e+07 1.93166416e+01]\n",
      " [6.85825278e+07 5.51378540e+07 1.96036429e+01]\n",
      " [6.57890004e+07 5.08055671e+07 2.27749824e+01]\n",
      " [6.57701218e+07 3.79792148e+07 4.22546078e+01]\n",
      " [6.95615487e+07 4.02757476e+07 4.21005594e+01]\n",
      " [7.18689533e+07 3.97914327e+07 4.46333488e+01]\n",
      " [4.72832851e+07 3.66172722e+07 2.25576815e+01]\n",
      " [1.72966178e+08 1.31781919e+08 2.38105848e+01]\n",
      " [1.11858050e+08 8.38662701e+07 2.50243767e+01]\n",
      " [1.29568939e+08 1.01000949e+08 2.20484866e+01]\n",
      " [7.70340475e+07 6.21113802e+07 1.93715218e+01]]\n"
     ]
    }
   ],
   "source": [
    "model_results=[]\n",
    "for index, row in tqdm(summary.iterrows()):\n",
    "    sch = [float(row.start_sch), float(row.end_sch)]\n",
    "    parameter = row.parameter\n",
    "    df = df_all[df_all.index.year == float(row.year)]\n",
    "    pwlf_On, pwlf_Off, MAE = LinModel(df, sch, parameter)\n",
    "    energy_no_sch = np.sum(pwlf_On.predict(normal_weather.to_numpy().ravel()))\n",
    "    data_on, data_off = seperate_data_by_Schedule(normal_weather, sch[0], sch[1], WeekendSplit=True)\n",
    "    energy_with_sch = np.sum(pwlf_On.predict(data_on.to_numpy().ravel())) + np.sum(pwlf_Off.predict(data_off.to_numpy().ravel()))\n",
    "    savings = 100 - (energy_with_sch / energy_no_sch)*100\n",
    "    model_results.append([energy_no_sch, energy_with_sch, savings])\n",
    "    \n",
    "print(np.array(model_results))"
   ]
  },
  {
   "cell_type": "code",
   "execution_count": 54,
   "id": "5a98c9cd",
   "metadata": {},
   "outputs": [
    {
     "data": {
      "text/html": [
       "<div>\n",
       "<style scoped>\n",
       "    .dataframe tbody tr th:only-of-type {\n",
       "        vertical-align: middle;\n",
       "    }\n",
       "\n",
       "    .dataframe tbody tr th {\n",
       "        vertical-align: top;\n",
       "    }\n",
       "\n",
       "    .dataframe thead th {\n",
       "        text-align: right;\n",
       "    }\n",
       "</style>\n",
       "<table border=\"1\" class=\"dataframe\">\n",
       "  <thead>\n",
       "    <tr style=\"text-align: right;\">\n",
       "      <th></th>\n",
       "      <th>parameter</th>\n",
       "      <th>year</th>\n",
       "      <th>start_sch</th>\n",
       "      <th>end_sch</th>\n",
       "      <th>MAE</th>\n",
       "      <th>energy_no_sch</th>\n",
       "      <th>energy_w_sch</th>\n",
       "      <th>savings</th>\n",
       "    </tr>\n",
       "  </thead>\n",
       "  <tbody>\n",
       "    <tr>\n",
       "      <th>0</th>\n",
       "      <td>steam</td>\n",
       "      <td>2017</td>\n",
       "      <td>6.0</td>\n",
       "      <td>17.0</td>\n",
       "      <td>1717.7869633296573</td>\n",
       "      <td>6.199653e+07</td>\n",
       "      <td>5.105601e+07</td>\n",
       "      <td>17.646978</td>\n",
       "    </tr>\n",
       "    <tr>\n",
       "      <th>1</th>\n",
       "      <td>steam</td>\n",
       "      <td>2018</td>\n",
       "      <td>6.0</td>\n",
       "      <td>17.0</td>\n",
       "      <td>1468.9442063754816</td>\n",
       "      <td>6.441872e+07</td>\n",
       "      <td>5.197518e+07</td>\n",
       "      <td>19.316642</td>\n",
       "    </tr>\n",
       "    <tr>\n",
       "      <th>2</th>\n",
       "      <td>steam</td>\n",
       "      <td>2019</td>\n",
       "      <td>5.0</td>\n",
       "      <td>17.0</td>\n",
       "      <td>1675.3416035026141</td>\n",
       "      <td>6.858253e+07</td>\n",
       "      <td>5.513785e+07</td>\n",
       "      <td>19.603643</td>\n",
       "    </tr>\n",
       "    <tr>\n",
       "      <th>3</th>\n",
       "      <td>steam</td>\n",
       "      <td>2020</td>\n",
       "      <td>5.0</td>\n",
       "      <td>17.0</td>\n",
       "      <td>2021.7152617288098</td>\n",
       "      <td>6.578900e+07</td>\n",
       "      <td>5.080557e+07</td>\n",
       "      <td>22.774982</td>\n",
       "    </tr>\n",
       "    <tr>\n",
       "      <th>4</th>\n",
       "      <td>chilledWater</td>\n",
       "      <td>2017</td>\n",
       "      <td>5.0</td>\n",
       "      <td>17.0</td>\n",
       "      <td>1171.147132436963</td>\n",
       "      <td>6.577012e+07</td>\n",
       "      <td>3.797921e+07</td>\n",
       "      <td>42.254608</td>\n",
       "    </tr>\n",
       "    <tr>\n",
       "      <th>5</th>\n",
       "      <td>chilledWater</td>\n",
       "      <td>2018</td>\n",
       "      <td>5.0</td>\n",
       "      <td>17.0</td>\n",
       "      <td>1333.2172926985234</td>\n",
       "      <td>6.956155e+07</td>\n",
       "      <td>4.027575e+07</td>\n",
       "      <td>42.100559</td>\n",
       "    </tr>\n",
       "    <tr>\n",
       "      <th>6</th>\n",
       "      <td>chilledWater</td>\n",
       "      <td>2019</td>\n",
       "      <td>5.0</td>\n",
       "      <td>17.0</td>\n",
       "      <td>1100.7804908590722</td>\n",
       "      <td>7.186895e+07</td>\n",
       "      <td>3.979143e+07</td>\n",
       "      <td>44.633349</td>\n",
       "    </tr>\n",
       "    <tr>\n",
       "      <th>7</th>\n",
       "      <td>chilledWater</td>\n",
       "      <td>2020</td>\n",
       "      <td>5.0</td>\n",
       "      <td>17.0</td>\n",
       "      <td>1215.2331087088678</td>\n",
       "      <td>4.728329e+07</td>\n",
       "      <td>3.661727e+07</td>\n",
       "      <td>22.557682</td>\n",
       "    </tr>\n",
       "    <tr>\n",
       "      <th>8</th>\n",
       "      <td>electricity</td>\n",
       "      <td>2017</td>\n",
       "      <td>6.0</td>\n",
       "      <td>18.0</td>\n",
       "      <td>1402.459547875476</td>\n",
       "      <td>1.729662e+08</td>\n",
       "      <td>1.317819e+08</td>\n",
       "      <td>23.810585</td>\n",
       "    </tr>\n",
       "    <tr>\n",
       "      <th>9</th>\n",
       "      <td>electricity</td>\n",
       "      <td>2018</td>\n",
       "      <td>6.0</td>\n",
       "      <td>18.0</td>\n",
       "      <td>2851.3591283751994</td>\n",
       "      <td>1.118580e+08</td>\n",
       "      <td>8.386627e+07</td>\n",
       "      <td>25.024377</td>\n",
       "    </tr>\n",
       "    <tr>\n",
       "      <th>10</th>\n",
       "      <td>electricity</td>\n",
       "      <td>2019</td>\n",
       "      <td>6.0</td>\n",
       "      <td>18.0</td>\n",
       "      <td>1917.2796496081105</td>\n",
       "      <td>1.295689e+08</td>\n",
       "      <td>1.010009e+08</td>\n",
       "      <td>22.048487</td>\n",
       "    </tr>\n",
       "    <tr>\n",
       "      <th>11</th>\n",
       "      <td>electricity</td>\n",
       "      <td>2020</td>\n",
       "      <td>6.0</td>\n",
       "      <td>18.0</td>\n",
       "      <td>1608.256488737369</td>\n",
       "      <td>7.703405e+07</td>\n",
       "      <td>6.211138e+07</td>\n",
       "      <td>19.371522</td>\n",
       "    </tr>\n",
       "  </tbody>\n",
       "</table>\n",
       "</div>"
      ],
      "text/plain": [
       "       parameter  year start_sch end_sch                 MAE  energy_no_sch  \\\n",
       "0          steam  2017       6.0    17.0  1717.7869633296573   6.199653e+07   \n",
       "1          steam  2018       6.0    17.0  1468.9442063754816   6.441872e+07   \n",
       "2          steam  2019       5.0    17.0  1675.3416035026141   6.858253e+07   \n",
       "3          steam  2020       5.0    17.0  2021.7152617288098   6.578900e+07   \n",
       "4   chilledWater  2017       5.0    17.0   1171.147132436963   6.577012e+07   \n",
       "5   chilledWater  2018       5.0    17.0  1333.2172926985234   6.956155e+07   \n",
       "6   chilledWater  2019       5.0    17.0  1100.7804908590722   7.186895e+07   \n",
       "7   chilledWater  2020       5.0    17.0  1215.2331087088678   4.728329e+07   \n",
       "8    electricity  2017       6.0    18.0   1402.459547875476   1.729662e+08   \n",
       "9    electricity  2018       6.0    18.0  2851.3591283751994   1.118580e+08   \n",
       "10   electricity  2019       6.0    18.0  1917.2796496081105   1.295689e+08   \n",
       "11   electricity  2020       6.0    18.0   1608.256488737369   7.703405e+07   \n",
       "\n",
       "    energy_w_sch    savings  \n",
       "0   5.105601e+07  17.646978  \n",
       "1   5.197518e+07  19.316642  \n",
       "2   5.513785e+07  19.603643  \n",
       "3   5.080557e+07  22.774982  \n",
       "4   3.797921e+07  42.254608  \n",
       "5   4.027575e+07  42.100559  \n",
       "6   3.979143e+07  44.633349  \n",
       "7   3.661727e+07  22.557682  \n",
       "8   1.317819e+08  23.810585  \n",
       "9   8.386627e+07  25.024377  \n",
       "10  1.010009e+08  22.048487  \n",
       "11  6.211138e+07  19.371522  "
      ]
     },
     "execution_count": 54,
     "metadata": {},
     "output_type": "execute_result"
    }
   ],
   "source": [
    "new_summary = pd.concat([summary, pd.DataFrame(model_results, columns=['energy_no_sch', 'energy_w_sch', 'savings'])], axis=1)\n",
    "new_summary"
   ]
  },
  {
   "cell_type": "code",
   "execution_count": 55,
   "id": "4d6986e0",
   "metadata": {},
   "outputs": [
    {
     "data": {
      "text/plain": [
       "(0.0, 45.982667333466296)"
      ]
     },
     "execution_count": 55,
     "metadata": {},
     "output_type": "execute_result"
    },
    {
     "data": {
      "image/png": "[encoded data removed]",
      "text/plain": [
       "<Figure size 432x288 with 1 Axes>"
      ]
     },
     "metadata": {
      "needs_background": "light"
     },
     "output_type": "display_data"
    }
   ],
   "source": [
    "parameters = ['steam', 'chilledWater', 'electricity']\n",
    "colors = ['r', 'b', 'k']\n",
    "for parameter, color in zip(parameters, colors):\n",
    "    plt.plot(new_summary[new_summary.parameter==parameter].year, new_summary[new_summary.parameter==parameter].savings, color)\n",
    "plt.legend(parameters)\n",
    "plt.ylim(ymin=0)"
   ]
  },
  {
   "cell_type": "code",
   "execution_count": 27,
   "id": "e696c731",
   "metadata": {},
   "outputs": [
    {
     "data": {
      "application/vnd.jupyter.widget-view+json": {
       "model_id": "",
       "version_major": 2,
       "version_minor": 0
      },
      "text/plain": [
       "  0%|          | 0/253 [00:00<?, ?it/s]"
      ]
     },
     "metadata": {},
     "output_type": "display_data"
    }
   ],
   "source": [
    "sch_map = detect_schedule(df, \"steam\", output_all_sch=True)"
   ]
  },
  {
   "cell_type": "code",
   "execution_count": 36,
   "id": "5f0d7a2e",
   "metadata": {},
   "outputs": [
    {
     "data": {
      "image/png": "[encoded data removed]",
      "text/plain": [
       "<Figure size 432x288 with 2 Axes>"
      ]
     },
     "metadata": {
      "needs_background": "light"
     },
     "output_type": "display_data"
    }
   ],
   "source": [
    "plt.tricontourf(*sch_map.T)\n",
    "plt.colorbar()\n",
    "plt.xticks(np.linspace(0,22, 12))\n",
    "plt.yticks(np.linspace(0,22, 12))\n",
    "plt.xlabel('Schedule start time')\n",
    "plt.ylabel('Schedule end time');"
   ]
  },
  {
   "cell_type": "code",
   "execution_count": 22,
   "id": "99aa182c",
   "metadata": {},
   "outputs": [
    {
     "data": {
      "text/plain": [
       "<matplotlib.legend.Legend at 0x2d106e86e80>"
      ]
     },
     "execution_count": 22,
     "metadata": {},
     "output_type": "execute_result"
    },
    {
     "data": {
      "image/png": "[encoded data removed]",
      "text/plain": [
       "<Figure size 432x288 with 1 Axes>"
      ]
     },
     "metadata": {
      "needs_background": "light"
     },
     "output_type": "display_data"
    }
   ],
   "source": [
    "for y in range(2017,2021):\n",
    "    plt.plot(df_all[df_all.index.year==y].electricity, label=f'{y}')\n",
    "plt.legend()"
   ]
  },
  {
   "cell_type": "code",
   "execution_count": null,
   "id": "aa75917d",
   "metadata": {},
   "outputs": [],
   "source": [
    "\n",
    "for index, row in tqdm(summary.iterrows()):\n",
    "    sch = [float(row.start_sch), float(row.end_sch)]\n",
    "    parameter = row.parameter\n",
    "    df = df_all[df_all.index.year == float(row.year)]\n",
    "    pwlf_On, pwlf_Off, MAE = LinModel(df, sch, parameter)\n",
    "    energy_no_sch = np.sum(pwlf_On.predict(normal_weather.to_numpy().ravel()))\n",
    "    data_on, data_off = seperate_data_by_Schedule(normal_weather, sch[0], sch[1], WeekendSplit=True)\n",
    "    energy_with_sch = np.sum(pwlf_On.predict(data_on.to_numpy().ravel())) + np.sum(pwlf_Off.predict(data_off.to_numpy().ravel()))\n",
    "    savings = 100 - (energy_with_sch / energy_no_sch)*100\n",
    "    model_results.append([energy_no_sch, energy_with_sch, savings])"
   ]
  },
  {
   "cell_type": "code",
   "execution_count": 13,
   "id": "8f8802ae",
   "metadata": {},
   "outputs": [
    {
     "data": {
      "application/vnd.jupyter.widget-view+json": {
       "model_id": "af142106ef70412aa39da91ef454635f",
       "version_major": 2,
       "version_minor": 0
      },
      "text/plain": [
       "  0%|          | 0/6 [00:00<?, ?it/s]"
      ]
     },
     "metadata": {},
     "output_type": "display_data"
    },
    {
     "data": {
      "application/vnd.jupyter.widget-view+json": {
       "model_id": "6252afe15f304f958738ebb71207ef49",
       "version_major": 2,
       "version_minor": 0
      },
      "text/plain": [
       "  0%|          | 0/6 [00:00<?, ?it/s]"
      ]
     },
     "metadata": {},
     "output_type": "display_data"
    }
   ],
   "source": [
    "def energy_estimate(normal_weather, pwlf_On, pwlf_Off, sch_p, weekend_split):\n",
    "    data_on, data_off = seperate_data_by_Schedule(normal_weather, sch_p[0], sch_p[1], weekend_split)\n",
    "    energy = np.sum(pwlf_On.predict(data_on.to_numpy().ravel())) + np.sum(pwlf_Off.predict(data_off.to_numpy().ravel()))\n",
    "    return energy\n",
    "\n",
    "sch_adj_results=[]\n",
    "parameters = ['steam', 'chilledWater', 'electricity']\n",
    "schedules = [[5,17], [5,17], [6,18]]\n",
    "for parameter, sch in zip(parameters, schedules):\n",
    "    pwlf_On, pwlf_Off, MAE = LinModel(df, sch, parameter)\n",
    "    energy_no_change = energy_estimate(normal_weather, pwlf_On, pwlf_Off, [sch[0], sch[1]], True)\n",
    "    for sch_start_adj in range(3,9):\n",
    "        energy = energy_estimate(normal_weather, pwlf_On, pwlf_Off, [sch_start_adj, sch[1]], True)\n",
    "        change = energy / energy_no_change * 100 - 100\n",
    "        sch_adj_results.append([parameter, sch_start_adj, '-', True, energy, change])\n",
    "    for sch_end_adj in range(15,21):\n",
    "        energy = energy_estimate(normal_weather, pwlf_On, pwlf_Off, [sch[0], sch_end_adj], True)\n",
    "        change = energy / energy_no_change * 100 - 100\n",
    "        sch_adj_results.append([parameter, '-', sch_end_adj, True, energy, change])\n",
    "\n",
    "    energy = energy_estimate(normal_weather, pwlf_On, pwlf_Off, [sch[0], sch[1]], False)\n",
    "    change = energy / energy_no_change * 100 - 100\n",
    "    sch_adj_results.append([parameter, '--', '--', False, energy, change])\n",
    "\n",
    "energy_no_change = 0\n",
    "parameter, sch = 'steam', [5,17]\n",
    "pwlf_On, pwlf_Off, MAE = LinModel(df, sch, parameter)\n",
    "energy_no_change = energy_no_change + energy_estimate(normal_weather, pwlf_On, pwlf_Off, sch, True)\n",
    "parameter, sch = 'chilledWater', [5,17]\n",
    "pwlf_On, pwlf_Off, MAE = LinModel(df, sch, parameter)\n",
    "energy_no_change = energy_no_change + energy_estimate(normal_weather, pwlf_On, pwlf_Off, sch, True)\n",
    "parameter, sch = 'electricity', [6,18]\n",
    "pwlf_On, pwlf_Off, MAE = LinModel(df, sch, parameter)\n",
    "energy_no_change = energy_no_change + energy_estimate(normal_weather, pwlf_On, pwlf_Off, sch, True)\n",
    "\n",
    "for sch_start_adj in tqdm(range(3,9)):\n",
    "    energy = 0\n",
    "    parameter, sch = 'steam', [5,17]\n",
    "    pwlf_On, pwlf_Off, MAE = LinModel(df, sch, parameter)\n",
    "    energy = energy + energy_estimate(normal_weather, pwlf_On, pwlf_Off, [sch_start_adj, sch[1]], True)\n",
    "    parameter, sch = 'chilledWater', [5,17]\n",
    "    pwlf_On, pwlf_Off, MAE = LinModel(df, sch, parameter)\n",
    "    energy = energy + energy_estimate(normal_weather, pwlf_On, pwlf_Off, [sch_start_adj, sch[1]], True)\n",
    "    parameter, sch = 'electricity', [6,18]\n",
    "    pwlf_On, pwlf_Off, MAE = LinModel(df, sch, parameter)\n",
    "    energy = energy + energy_estimate(normal_weather, pwlf_On, pwlf_Off, [sch_start_adj, sch[1]], True)\n",
    "    \n",
    "    change = energy / energy_no_change * 100 - 100\n",
    "    sch_adj_results.append(['All', sch_start_adj, '-', True, energy, change])\n",
    "\n",
    "for sch_end_adj in tqdm(range(15,21)):\n",
    "    energy = 0\n",
    "    parameter, sch = 'steam', [5,17]\n",
    "    pwlf_On, pwlf_Off, MAE = LinModel(df, sch, parameter)\n",
    "    energy = energy + energy_estimate(normal_weather, pwlf_On, pwlf_Off, [sch[0], sch_end_adj], True)\n",
    "    parameter, sch = 'chilledWater', [5,17]\n",
    "    pwlf_On, pwlf_Off, MAE = LinModel(df, sch, parameter)\n",
    "    energy = energy + energy_estimate(normal_weather, pwlf_On, pwlf_Off, [sch[0], sch_end_adj], True)\n",
    "    parameter, sch = 'electricity', [6,18]\n",
    "    pwlf_On, pwlf_Off, MAE = LinModel(df, sch, parameter)\n",
    "    energy = energy + energy_estimate(normal_weather, pwlf_On, pwlf_Off, [sch[0], sch_end_adj], True)\n",
    "    \n",
    "    change = energy / energy_no_change * 100 - 100\n",
    "    sch_adj_results.append(['All', '-', sch_end_adj, True, energy, change])     \n",
    "    \n",
    "\n",
    "energy = 0\n",
    "parameter, sch = 'steam', [5,17]\n",
    "pwlf_On, pwlf_Off, MAE = LinModel(df, sch, parameter)\n",
    "energy = energy + energy_estimate(normal_weather, pwlf_On, pwlf_Off, sch, False)\n",
    "parameter, sch = 'chilledWater', [5,17]\n",
    "pwlf_On, pwlf_Off, MAE = LinModel(df, sch, parameter)\n",
    "energy = energy + energy_estimate(normal_weather, pwlf_On, pwlf_Off, sch, False)\n",
    "parameter, sch = 'electricity', [6,18]\n",
    "pwlf_On, pwlf_Off, MAE = LinModel(df, sch, parameter)\n",
    "energy = energy + energy_estimate(normal_weather, pwlf_On, pwlf_Off, sch, False)\n",
    "\n",
    "change =  energy / energy_no_change * 100 - 100\n",
    "sch_adj_results.append(['All', '--', '--', False, energy, change])   "
   ]
  },
  {
   "cell_type": "code",
   "execution_count": 14,
   "id": "ec749875",
   "metadata": {},
   "outputs": [
    {
     "data": {
      "text/html": [
       "<div>\n",
       "<style scoped>\n",
       "    .dataframe tbody tr th:only-of-type {\n",
       "        vertical-align: middle;\n",
       "    }\n",
       "\n",
       "    .dataframe tbody tr th {\n",
       "        vertical-align: top;\n",
       "    }\n",
       "\n",
       "    .dataframe thead th {\n",
       "        text-align: right;\n",
       "    }\n",
       "</style>\n",
       "<table border=\"1\" class=\"dataframe\">\n",
       "  <thead>\n",
       "    <tr style=\"text-align: right;\">\n",
       "      <th></th>\n",
       "      <th>parameter</th>\n",
       "      <th>sch_start</th>\n",
       "      <th>sch_end</th>\n",
       "      <th>weekend_split</th>\n",
       "      <th>energy</th>\n",
       "      <th>change</th>\n",
       "    </tr>\n",
       "  </thead>\n",
       "  <tbody>\n",
       "    <tr>\n",
       "      <th>0</th>\n",
       "      <td>steam</td>\n",
       "      <td>3</td>\n",
       "      <td>-</td>\n",
       "      <td>True</td>\n",
       "      <td>5.653550e+07</td>\n",
       "      <td>2.534985</td>\n",
       "    </tr>\n",
       "    <tr>\n",
       "      <th>1</th>\n",
       "      <td>steam</td>\n",
       "      <td>4</td>\n",
       "      <td>-</td>\n",
       "      <td>True</td>\n",
       "      <td>5.582491e+07</td>\n",
       "      <td>1.246224</td>\n",
       "    </tr>\n",
       "    <tr>\n",
       "      <th>2</th>\n",
       "      <td>steam</td>\n",
       "      <td>5</td>\n",
       "      <td>-</td>\n",
       "      <td>True</td>\n",
       "      <td>5.513777e+07</td>\n",
       "      <td>0.000000</td>\n",
       "    </tr>\n",
       "    <tr>\n",
       "      <th>3</th>\n",
       "      <td>steam</td>\n",
       "      <td>6</td>\n",
       "      <td>-</td>\n",
       "      <td>True</td>\n",
       "      <td>5.448553e+07</td>\n",
       "      <td>-1.182934</td>\n",
       "    </tr>\n",
       "    <tr>\n",
       "      <th>4</th>\n",
       "      <td>steam</td>\n",
       "      <td>7</td>\n",
       "      <td>-</td>\n",
       "      <td>True</td>\n",
       "      <td>5.386978e+07</td>\n",
       "      <td>-2.299682</td>\n",
       "    </tr>\n",
       "    <tr>\n",
       "      <th>5</th>\n",
       "      <td>steam</td>\n",
       "      <td>8</td>\n",
       "      <td>-</td>\n",
       "      <td>True</td>\n",
       "      <td>5.328789e+07</td>\n",
       "      <td>-3.355019</td>\n",
       "    </tr>\n",
       "    <tr>\n",
       "      <th>6</th>\n",
       "      <td>steam</td>\n",
       "      <td>-</td>\n",
       "      <td>15</td>\n",
       "      <td>True</td>\n",
       "      <td>5.403210e+07</td>\n",
       "      <td>-2.005278</td>\n",
       "    </tr>\n",
       "    <tr>\n",
       "      <th>7</th>\n",
       "      <td>steam</td>\n",
       "      <td>-</td>\n",
       "      <td>16</td>\n",
       "      <td>True</td>\n",
       "      <td>5.457170e+07</td>\n",
       "      <td>-1.026638</td>\n",
       "    </tr>\n",
       "    <tr>\n",
       "      <th>8</th>\n",
       "      <td>steam</td>\n",
       "      <td>-</td>\n",
       "      <td>17</td>\n",
       "      <td>True</td>\n",
       "      <td>5.513777e+07</td>\n",
       "      <td>0.000000</td>\n",
       "    </tr>\n",
       "    <tr>\n",
       "      <th>9</th>\n",
       "      <td>steam</td>\n",
       "      <td>-</td>\n",
       "      <td>18</td>\n",
       "      <td>True</td>\n",
       "      <td>5.572802e+07</td>\n",
       "      <td>1.070503</td>\n",
       "    </tr>\n",
       "    <tr>\n",
       "      <th>10</th>\n",
       "      <td>steam</td>\n",
       "      <td>-</td>\n",
       "      <td>19</td>\n",
       "      <td>True</td>\n",
       "      <td>5.634429e+07</td>\n",
       "      <td>2.188191</td>\n",
       "    </tr>\n",
       "    <tr>\n",
       "      <th>11</th>\n",
       "      <td>steam</td>\n",
       "      <td>-</td>\n",
       "      <td>20</td>\n",
       "      <td>True</td>\n",
       "      <td>5.697933e+07</td>\n",
       "      <td>3.339919</td>\n",
       "    </tr>\n",
       "    <tr>\n",
       "      <th>12</th>\n",
       "      <td>steam</td>\n",
       "      <td>--</td>\n",
       "      <td>--</td>\n",
       "      <td>False</td>\n",
       "      <td>5.758479e+07</td>\n",
       "      <td>4.438010</td>\n",
       "    </tr>\n",
       "    <tr>\n",
       "      <th>13</th>\n",
       "      <td>chilledWater</td>\n",
       "      <td>3</td>\n",
       "      <td>-</td>\n",
       "      <td>True</td>\n",
       "      <td>4.250573e+07</td>\n",
       "      <td>6.821535</td>\n",
       "    </tr>\n",
       "    <tr>\n",
       "      <th>14</th>\n",
       "      <td>chilledWater</td>\n",
       "      <td>4</td>\n",
       "      <td>-</td>\n",
       "      <td>True</td>\n",
       "      <td>4.116131e+07</td>\n",
       "      <td>3.442845</td>\n",
       "    </tr>\n",
       "    <tr>\n",
       "      <th>15</th>\n",
       "      <td>chilledWater</td>\n",
       "      <td>5</td>\n",
       "      <td>-</td>\n",
       "      <td>True</td>\n",
       "      <td>3.979135e+07</td>\n",
       "      <td>0.000000</td>\n",
       "    </tr>\n",
       "    <tr>\n",
       "      <th>16</th>\n",
       "      <td>chilledWater</td>\n",
       "      <td>6</td>\n",
       "      <td>-</td>\n",
       "      <td>True</td>\n",
       "      <td>3.836000e+07</td>\n",
       "      <td>-3.597135</td>\n",
       "    </tr>\n",
       "    <tr>\n",
       "      <th>17</th>\n",
       "      <td>chilledWater</td>\n",
       "      <td>7</td>\n",
       "      <td>-</td>\n",
       "      <td>True</td>\n",
       "      <td>3.684534e+07</td>\n",
       "      <td>-7.403642</td>\n",
       "    </tr>\n",
       "    <tr>\n",
       "      <th>18</th>\n",
       "      <td>chilledWater</td>\n",
       "      <td>8</td>\n",
       "      <td>-</td>\n",
       "      <td>True</td>\n",
       "      <td>3.523778e+07</td>\n",
       "      <td>-11.443615</td>\n",
       "    </tr>\n",
       "    <tr>\n",
       "      <th>19</th>\n",
       "      <td>chilledWater</td>\n",
       "      <td>-</td>\n",
       "      <td>15</td>\n",
       "      <td>True</td>\n",
       "      <td>3.639332e+07</td>\n",
       "      <td>-8.539634</td>\n",
       "    </tr>\n",
       "    <tr>\n",
       "      <th>20</th>\n",
       "      <td>chilledWater</td>\n",
       "      <td>-</td>\n",
       "      <td>16</td>\n",
       "      <td>True</td>\n",
       "      <td>3.813104e+07</td>\n",
       "      <td>-4.172546</td>\n",
       "    </tr>\n",
       "    <tr>\n",
       "      <th>21</th>\n",
       "      <td>chilledWater</td>\n",
       "      <td>-</td>\n",
       "      <td>17</td>\n",
       "      <td>True</td>\n",
       "      <td>3.979135e+07</td>\n",
       "      <td>0.000000</td>\n",
       "    </tr>\n",
       "    <tr>\n",
       "      <th>22</th>\n",
       "      <td>chilledWater</td>\n",
       "      <td>-</td>\n",
       "      <td>18</td>\n",
       "      <td>True</td>\n",
       "      <td>4.137077e+07</td>\n",
       "      <td>3.969253</td>\n",
       "    </tr>\n",
       "    <tr>\n",
       "      <th>23</th>\n",
       "      <td>chilledWater</td>\n",
       "      <td>-</td>\n",
       "      <td>19</td>\n",
       "      <td>True</td>\n",
       "      <td>4.288209e+07</td>\n",
       "      <td>7.767362</td>\n",
       "    </tr>\n",
       "    <tr>\n",
       "      <th>24</th>\n",
       "      <td>chilledWater</td>\n",
       "      <td>-</td>\n",
       "      <td>20</td>\n",
       "      <td>True</td>\n",
       "      <td>4.435695e+07</td>\n",
       "      <td>11.473838</td>\n",
       "    </tr>\n",
       "    <tr>\n",
       "      <th>25</th>\n",
       "      <td>chilledWater</td>\n",
       "      <td>--</td>\n",
       "      <td>--</td>\n",
       "      <td>False</td>\n",
       "      <td>4.803740e+07</td>\n",
       "      <td>20.723229</td>\n",
       "    </tr>\n",
       "    <tr>\n",
       "      <th>26</th>\n",
       "      <td>electricity</td>\n",
       "      <td>3</td>\n",
       "      <td>-</td>\n",
       "      <td>True</td>\n",
       "      <td>1.047769e+08</td>\n",
       "      <td>3.738484</td>\n",
       "    </tr>\n",
       "    <tr>\n",
       "      <th>27</th>\n",
       "      <td>electricity</td>\n",
       "      <td>4</td>\n",
       "      <td>-</td>\n",
       "      <td>True</td>\n",
       "      <td>1.035423e+08</td>\n",
       "      <td>2.516204</td>\n",
       "    </tr>\n",
       "    <tr>\n",
       "      <th>28</th>\n",
       "      <td>electricity</td>\n",
       "      <td>5</td>\n",
       "      <td>-</td>\n",
       "      <td>True</td>\n",
       "      <td>1.022890e+08</td>\n",
       "      <td>1.275273</td>\n",
       "    </tr>\n",
       "    <tr>\n",
       "      <th>29</th>\n",
       "      <td>electricity</td>\n",
       "      <td>6</td>\n",
       "      <td>-</td>\n",
       "      <td>True</td>\n",
       "      <td>1.010009e+08</td>\n",
       "      <td>0.000000</td>\n",
       "    </tr>\n",
       "    <tr>\n",
       "      <th>30</th>\n",
       "      <td>electricity</td>\n",
       "      <td>7</td>\n",
       "      <td>-</td>\n",
       "      <td>True</td>\n",
       "      <td>9.966717e+07</td>\n",
       "      <td>-1.320561</td>\n",
       "    </tr>\n",
       "    <tr>\n",
       "      <th>31</th>\n",
       "      <td>electricity</td>\n",
       "      <td>8</td>\n",
       "      <td>-</td>\n",
       "      <td>True</td>\n",
       "      <td>9.828310e+07</td>\n",
       "      <td>-2.690910</td>\n",
       "    </tr>\n",
       "    <tr>\n",
       "      <th>32</th>\n",
       "      <td>electricity</td>\n",
       "      <td>-</td>\n",
       "      <td>15</td>\n",
       "      <td>True</td>\n",
       "      <td>9.677405e+07</td>\n",
       "      <td>-4.185009</td>\n",
       "    </tr>\n",
       "    <tr>\n",
       "      <th>33</th>\n",
       "      <td>electricity</td>\n",
       "      <td>-</td>\n",
       "      <td>16</td>\n",
       "      <td>True</td>\n",
       "      <td>9.821201e+07</td>\n",
       "      <td>-2.761302</td>\n",
       "    </tr>\n",
       "    <tr>\n",
       "      <th>34</th>\n",
       "      <td>electricity</td>\n",
       "      <td>-</td>\n",
       "      <td>17</td>\n",
       "      <td>True</td>\n",
       "      <td>9.961980e+07</td>\n",
       "      <td>-1.367466</td>\n",
       "    </tr>\n",
       "    <tr>\n",
       "      <th>35</th>\n",
       "      <td>electricity</td>\n",
       "      <td>-</td>\n",
       "      <td>18</td>\n",
       "      <td>True</td>\n",
       "      <td>1.010009e+08</td>\n",
       "      <td>0.000000</td>\n",
       "    </tr>\n",
       "    <tr>\n",
       "      <th>36</th>\n",
       "      <td>electricity</td>\n",
       "      <td>-</td>\n",
       "      <td>19</td>\n",
       "      <td>True</td>\n",
       "      <td>1.023473e+08</td>\n",
       "      <td>1.333030</td>\n",
       "    </tr>\n",
       "    <tr>\n",
       "      <th>37</th>\n",
       "      <td>electricity</td>\n",
       "      <td>-</td>\n",
       "      <td>20</td>\n",
       "      <td>True</td>\n",
       "      <td>1.036740e+08</td>\n",
       "      <td>2.646518</td>\n",
       "    </tr>\n",
       "    <tr>\n",
       "      <th>38</th>\n",
       "      <td>electricity</td>\n",
       "      <td>--</td>\n",
       "      <td>--</td>\n",
       "      <td>False</td>\n",
       "      <td>1.079160e+08</td>\n",
       "      <td>6.846549</td>\n",
       "    </tr>\n",
       "    <tr>\n",
       "      <th>39</th>\n",
       "      <td>All</td>\n",
       "      <td>3</td>\n",
       "      <td>-</td>\n",
       "      <td>True</td>\n",
       "      <td>2.038185e+08</td>\n",
       "      <td>4.021131</td>\n",
       "    </tr>\n",
       "    <tr>\n",
       "      <th>40</th>\n",
       "      <td>All</td>\n",
       "      <td>4</td>\n",
       "      <td>-</td>\n",
       "      <td>True</td>\n",
       "      <td>2.005377e+08</td>\n",
       "      <td>2.346734</td>\n",
       "    </tr>\n",
       "    <tr>\n",
       "      <th>41</th>\n",
       "      <td>All</td>\n",
       "      <td>5</td>\n",
       "      <td>-</td>\n",
       "      <td>True</td>\n",
       "      <td>1.972185e+08</td>\n",
       "      <td>0.652786</td>\n",
       "    </tr>\n",
       "    <tr>\n",
       "      <th>42</th>\n",
       "      <td>All</td>\n",
       "      <td>6</td>\n",
       "      <td>-</td>\n",
       "      <td>True</td>\n",
       "      <td>1.938468e+08</td>\n",
       "      <td>-1.068023</td>\n",
       "    </tr>\n",
       "    <tr>\n",
       "      <th>43</th>\n",
       "      <td>All</td>\n",
       "      <td>7</td>\n",
       "      <td>-</td>\n",
       "      <td>True</td>\n",
       "      <td>1.903824e+08</td>\n",
       "      <td>-2.836136</td>\n",
       "    </tr>\n",
       "    <tr>\n",
       "      <th>44</th>\n",
       "      <td>All</td>\n",
       "      <td>8</td>\n",
       "      <td>-</td>\n",
       "      <td>True</td>\n",
       "      <td>1.868087e+08</td>\n",
       "      <td>-4.660013</td>\n",
       "    </tr>\n",
       "    <tr>\n",
       "      <th>45</th>\n",
       "      <td>All</td>\n",
       "      <td>-</td>\n",
       "      <td>15</td>\n",
       "      <td>True</td>\n",
       "      <td>1.871993e+08</td>\n",
       "      <td>-4.460652</td>\n",
       "    </tr>\n",
       "    <tr>\n",
       "      <th>46</th>\n",
       "      <td>All</td>\n",
       "      <td>-</td>\n",
       "      <td>16</td>\n",
       "      <td>True</td>\n",
       "      <td>1.909148e+08</td>\n",
       "      <td>-2.564392</td>\n",
       "    </tr>\n",
       "    <tr>\n",
       "      <th>47</th>\n",
       "      <td>All</td>\n",
       "      <td>-</td>\n",
       "      <td>17</td>\n",
       "      <td>True</td>\n",
       "      <td>1.945490e+08</td>\n",
       "      <td>-0.709636</td>\n",
       "    </tr>\n",
       "    <tr>\n",
       "      <th>48</th>\n",
       "      <td>All</td>\n",
       "      <td>-</td>\n",
       "      <td>18</td>\n",
       "      <td>True</td>\n",
       "      <td>1.980950e+08</td>\n",
       "      <td>1.100104</td>\n",
       "    </tr>\n",
       "    <tr>\n",
       "      <th>49</th>\n",
       "      <td>All</td>\n",
       "      <td>-</td>\n",
       "      <td>19</td>\n",
       "      <td>True</td>\n",
       "      <td>2.015739e+08</td>\n",
       "      <td>2.875599</td>\n",
       "    </tr>\n",
       "    <tr>\n",
       "      <th>50</th>\n",
       "      <td>All</td>\n",
       "      <td>-</td>\n",
       "      <td>20</td>\n",
       "      <td>True</td>\n",
       "      <td>2.050078e+08</td>\n",
       "      <td>4.628143</td>\n",
       "    </tr>\n",
       "    <tr>\n",
       "      <th>51</th>\n",
       "      <td>All</td>\n",
       "      <td>--</td>\n",
       "      <td>--</td>\n",
       "      <td>False</td>\n",
       "      <td>2.135242e+08</td>\n",
       "      <td>8.974558</td>\n",
       "    </tr>\n",
       "  </tbody>\n",
       "</table>\n",
       "</div>"
      ],
      "text/plain": [
       "       parameter sch_start sch_end  weekend_split        energy     change\n",
       "0          steam         3       -           True  5.653550e+07   2.534985\n",
       "1          steam         4       -           True  5.582491e+07   1.246224\n",
       "2          steam         5       -           True  5.513777e+07   0.000000\n",
       "3          steam         6       -           True  5.448553e+07  -1.182934\n",
       "4          steam         7       -           True  5.386978e+07  -2.299682\n",
       "5          steam         8       -           True  5.328789e+07  -3.355019\n",
       "6          steam         -      15           True  5.403210e+07  -2.005278\n",
       "7          steam         -      16           True  5.457170e+07  -1.026638\n",
       "8          steam         -      17           True  5.513777e+07   0.000000\n",
       "9          steam         -      18           True  5.572802e+07   1.070503\n",
       "10         steam         -      19           True  5.634429e+07   2.188191\n",
       "11         steam         -      20           True  5.697933e+07   3.339919\n",
       "12         steam        --      --          False  5.758479e+07   4.438010\n",
       "13  chilledWater         3       -           True  4.250573e+07   6.821535\n",
       "14  chilledWater         4       -           True  4.116131e+07   3.442845\n",
       "15  chilledWater         5       -           True  3.979135e+07   0.000000\n",
       "16  chilledWater         6       -           True  3.836000e+07  -3.597135\n",
       "17  chilledWater         7       -           True  3.684534e+07  -7.403642\n",
       "18  chilledWater         8       -           True  3.523778e+07 -11.443615\n",
       "19  chilledWater         -      15           True  3.639332e+07  -8.539634\n",
       "20  chilledWater         -      16           True  3.813104e+07  -4.172546\n",
       "21  chilledWater         -      17           True  3.979135e+07   0.000000\n",
       "22  chilledWater         -      18           True  4.137077e+07   3.969253\n",
       "23  chilledWater         -      19           True  4.288209e+07   7.767362\n",
       "24  chilledWater         -      20           True  4.435695e+07  11.473838\n",
       "25  chilledWater        --      --          False  4.803740e+07  20.723229\n",
       "26   electricity         3       -           True  1.047769e+08   3.738484\n",
       "27   electricity         4       -           True  1.035423e+08   2.516204\n",
       "28   electricity         5       -           True  1.022890e+08   1.275273\n",
       "29   electricity         6       -           True  1.010009e+08   0.000000\n",
       "30   electricity         7       -           True  9.966717e+07  -1.320561\n",
       "31   electricity         8       -           True  9.828310e+07  -2.690910\n",
       "32   electricity         -      15           True  9.677405e+07  -4.185009\n",
       "33   electricity         -      16           True  9.821201e+07  -2.761302\n",
       "34   electricity         -      17           True  9.961980e+07  -1.367466\n",
       "35   electricity         -      18           True  1.010009e+08   0.000000\n",
       "36   electricity         -      19           True  1.023473e+08   1.333030\n",
       "37   electricity         -      20           True  1.036740e+08   2.646518\n",
       "38   electricity        --      --          False  1.079160e+08   6.846549\n",
       "39           All         3       -           True  2.038185e+08   4.021131\n",
       "40           All         4       -           True  2.005377e+08   2.346734\n",
       "41           All         5       -           True  1.972185e+08   0.652786\n",
       "42           All         6       -           True  1.938468e+08  -1.068023\n",
       "43           All         7       -           True  1.903824e+08  -2.836136\n",
       "44           All         8       -           True  1.868087e+08  -4.660013\n",
       "45           All         -      15           True  1.871993e+08  -4.460652\n",
       "46           All         -      16           True  1.909148e+08  -2.564392\n",
       "47           All         -      17           True  1.945490e+08  -0.709636\n",
       "48           All         -      18           True  1.980950e+08   1.100104\n",
       "49           All         -      19           True  2.015739e+08   2.875599\n",
       "50           All         -      20           True  2.050078e+08   4.628143\n",
       "51           All        --      --          False  2.135242e+08   8.974558"
      ]
     },
     "execution_count": 14,
     "metadata": {},
     "output_type": "execute_result"
    }
   ],
   "source": [
    "sch_adj = pd.DataFrame(sch_adj_results, columns=['parameter', 'sch_start', 'sch_end', 'weekend_split', 'energy', 'change'])\n",
    "sch_adj"
   ]
  },
  {
   "cell_type": "code",
   "execution_count": 15,
   "id": "d209979c",
   "metadata": {},
   "outputs": [
    {
     "data": {
      "image/png": "[encoded data removed]",
      "text/plain": [
       "<Figure size 432x288 with 1 Axes>"
      ]
     },
     "metadata": {
      "needs_background": "light"
     },
     "output_type": "display_data"
    }
   ],
   "source": [
    "colors = ['r', 'b', 'k', 'grey']\n",
    "labels = ['Steam', 'Chilled Water', 'Electricity', 'Total']\n",
    "parameters = ['steam', 'chilledWater', 'electricity', 'All']\n",
    "for parameter, color, label in zip(parameters, colors, labels):\n",
    "    plot = sch_adj[sch_adj.parameter==parameter]\n",
    "    plot = plot[plot.sch_start=='-']\n",
    "    plt.plot(plot.sch_end, plot.change, color=color, label=label)\n",
    "    \n",
    "plt.legend()\n",
    "plt.xlabel('Proposed Occupied-Unoccupied Switchover (hour)')\n",
    "plt.ylabel('Change in energy (%)\\n(compared to current practice)');\n",
    "plt.grid()"
   ]
  },
  {
   "cell_type": "code",
   "execution_count": 16,
   "id": "86fcd204",
   "metadata": {},
   "outputs": [
    {
     "data": {
      "image/png": "[encoded data removed]",
      "text/plain": [
       "<Figure size 432x288 with 1 Axes>"
      ]
     },
     "metadata": {
      "needs_background": "light"
     },
     "output_type": "display_data"
    }
   ],
   "source": [
    "colors = ['r', 'b', 'k', 'grey']\n",
    "labels = ['Steam', 'Chilled Water', 'Electricity', 'Total']\n",
    "parameters = ['steam', 'chilledWater', 'electricity', 'All']\n",
    "for parameter, color, label in zip(parameters, colors, labels):\n",
    "    plot = sch_adj[sch_adj.parameter==parameter]\n",
    "    plot = plot[plot.sch_end=='-']\n",
    "    plt.plot(plot.sch_start, plot.change, color=color, label=label)\n",
    "    \n",
    "plt.legend()\n",
    "plt.xlabel('Equipment Schedule End (hour)')\n",
    "plt.ylabel('Change in energy (%)\\n(compared to current practice)');\n",
    "plt.grid()"
   ]
  },
  {
   "cell_type": "code",
   "execution_count": null,
   "id": "8e05775e",
   "metadata": {},
   "outputs": [],
   "source": []
  },
  {
   "cell_type": "code",
   "execution_count": null,
   "id": "65946a6a",
   "metadata": {},
   "outputs": [],
   "source": []
  }
 ],
 "metadata": {
  "kernelspec": {
   "display_name": "Python 3",
   "language": "python",
   "name": "python3"
  },
  "language_info": {
   "codemirror_mode": {
    "name": "ipython",
    "version": 3
   },
   "file_extension": ".py",
   "mimetype": "text/x-python",
   "name": "python",
   "nbconvert_exporter": "python",
   "pygments_lexer": "ipython3",
   "version": "3.8.5"
  }
 },
 "nbformat": 4,
 "nbformat_minor": 5
}
