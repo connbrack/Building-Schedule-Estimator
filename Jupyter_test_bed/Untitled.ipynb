{
 "cells": [
  {
   "cell_type": "code",
   "execution_count": 2,
   "id": "51eba711",
   "metadata": {},
   "outputs": [],
   "source": [
    "import plotly.express as px\n",
    "import plotly.graph_objects as go\n",
    "import pandas as pd\n",
    "import pathlib\n",
    "from mpl_toolkits import mplot3d\n",
    "import matplotlib.pyplot as plt\n",
    "%matplotlib inline  \n",
    "import numpy as np\n",
    "import pickle as plk\n",
    "import pwlf\n",
    "import os\n",
    "from tqdm.notebook import tqdm\n",
    "\n",
    "import plotly.express as px"
   ]
  },
  {
   "cell_type": "code",
   "execution_count": 25,
   "id": "ac365ff4",
   "metadata": {},
   "outputs": [],
   "source": [
    "# Mimic drop down\n",
    "building_dropdown = 'CD Howe'\n",
    "year_dropdown = 2019"
   ]
  },
  {
   "cell_type": "code",
   "execution_count": 26,
   "id": "99b8ca04",
   "metadata": {},
   "outputs": [],
   "source": [
    "# Import Data\n",
    "PATH = pathlib.Path().parent.parent\n",
    "DATA_PATH = PATH.joinpath(\"../app/data\").resolve()\n",
    "\n",
    "with open(DATA_PATH.joinpath(f'{building_dropdown}/Energy/_energyData.pkl'), 'rb') as f:\n",
    "    energy_df = plk.load(f)\n",
    "\n",
    "with open(DATA_PATH.joinpath(f'Supporting/Weather/Ottawa.pkl'), 'rb') as f:\n",
    "    weather_df = plk.load(f)\n",
    "    \n",
    "df_all = pd.merge(energy_df, weather_df, how='outer', left_index=True, right_index=True)\n",
    "df = df_all[df_all.index.year == year_dropdown]\n"
   ]
  },
  {
   "cell_type": "code",
   "execution_count": 27,
   "id": "812c9eec",
   "metadata": {},
   "outputs": [],
   "source": [
    "steam_line=[[5, 17], np.array([-26.8      ,   2.7013179,  14.8465908,  32.3      ]), np.array([23014.69570784,  8437.05520873,  1101.6920742 ,  -557.85267625]), np.array([-26.3       ,   1.79999962,  11.9995312 ,  30.6       ]), np.array([18008.10193165,  7037.52934693,  1342.43233668,  -897.59210098])]"
   ]
  },
  {
   "cell_type": "code",
   "execution_count": 28,
   "id": "f73a6ad0",
   "metadata": {},
   "outputs": [],
   "source": [
    "def seperate_data_by_Schedule(Data, workDayStart, workDayEnd, WeekendSplit):\n",
    "    if WeekendSplit:\n",
    "        DataWeekend = Data[Data.index.weekday > 4]\n",
    "        DataWeekday = Data[Data.index.weekday < 5]\n",
    "        DataEvening = DataWeekday[(DataWeekday.index.hour <= workDayStart) | (DataWeekday.index.hour > workDayEnd)]\n",
    "        DataOffSchedule = pd.concat([DataWeekend, DataEvening])\n",
    "        DataOnSchedule = DataWeekday[(DataWeekday.index.hour > workDayStart) & (DataWeekday.index.hour <= workDayEnd)]\n",
    "\n",
    "    else:\n",
    "        DataOffSchedule = Data[(Data.index.hour <= workDayStart) | (Data.index.hour > workDayEnd)]\n",
    "        DataOnSchedule = Data[(Data.index.hour > workDayStart) & (Data.index.hour <= workDayEnd)]\n",
    "\n",
    "    return DataOnSchedule, DataOffSchedule\n",
    "\n",
    "\n",
    "def schedule_seperate_graph(data, sch, parameter, color_on, color_off, fit_line, color_line_on, color_line_off, weekend_included=True):\n",
    "    \"\"\"\n",
    "\n",
    "    :param data: Dataframe with combined energy data and\n",
    "    :param sch: Start and end of occupied period as dictionary [start, end]\n",
    "    :param parameter: steam/chilledWater/electrical\n",
    "    :param color_on:\n",
    "    :param color_off:\n",
    "    :return: Figure with coloured\n",
    "    \"\"\"\n",
    "\n",
    "    DataOnSchedule, DataOffSchedule = seperate_data_by_Schedule(data, sch[0], sch[1], weekend_included)\n",
    "\n",
    "    fig = go.Figure()\n",
    "    fig.add_scatter(name='Off Schedule', x=DataOffSchedule.temperature, y=DataOffSchedule[parameter],\n",
    "                    customdata=DataOffSchedule.index, mode='markers', marker=dict(color=color_off))\n",
    "    fig.add_scatter(name='On Schedule', x=DataOnSchedule.temperature, y=DataOnSchedule[parameter],\n",
    "                    customdata=DataOnSchedule.index, mode='markers', marker=dict(color=color_on))\n",
    "    \n",
    "    if fit_line != []:\n",
    "        if fit_line[0] == sch:\n",
    "    \n",
    "            fig.add_scatter(name='_nolegend_', x=fit_line[1], y=fit_line[2], marker=dict(color=color_line_on), showlegend=False)  \n",
    "            fig.add_scatter(name='_nolegend_', x=fit_line[3], y=fit_line[4], marker=dict(color=color_line_off), showlegend=False)   \n",
    "    \n",
    "    \n",
    "    fig.update_layout(template=\"none\", xaxis_title=\"Outdoor Temperature\", yaxis_title=\"Energy (GJ/hr)\")\n",
    "    fig.update_layout(legend=dict(\n",
    "        yanchor=\"top\",\n",
    "        y=-0.1,\n",
    "        xanchor=\"left\",\n",
    "        x=0.99\n",
    "    ))\n",
    "    fig.update_traces(hovertemplate='Energy: %{y}<br>Date: %{customdata}')\n",
    "    return fig\n",
    "\n",
    "# schedule_seperate_graph(df, [5, 17], 'steam', 'red', 'LightCoral', steam_line, 'black', 'grey', weekend_included=False)"
   ]
  },
  {
   "cell_type": "code",
   "execution_count": 51,
   "id": "98c30f22",
   "metadata": {},
   "outputs": [
    {
     "data": {
      "text/plain": [
       "1917.2832006075662"
      ]
     },
     "execution_count": 51,
     "metadata": {},
     "output_type": "execute_result"
    }
   ],
   "source": [
    "from sklearn.metrics import mean_squared_error\n",
    "import warnings\n",
    "\n",
    "def coefficient_of_determination(ys_orig, ys_line):\n",
    "    y_mean_line = np.mean(ys_orig)\n",
    "    squared_error_res = np.sum((ys_orig - ys_line) ** 2)\n",
    "    squared_error_tot = np.sum((ys_orig - y_mean_line) ** 2)\n",
    "    return 1 - (squared_error_res / squared_error_tot)\n",
    "\n",
    "def LinModel(Data, sch, parameter, WeekendSplit=True):\n",
    "    # clean data for\n",
    "    linData = Data.copy()\n",
    "    linData = linData.dropna(subset=['temperature', parameter])\n",
    "    linData = linData[linData[parameter] != 0]\n",
    "\n",
    "    linDataOnSchedule, linDataOffSchedule = seperate_data_by_Schedule(linData, sch[0], sch[1], WeekendSplit)\n",
    "\n",
    "    X_On = linDataOnSchedule['temperature'].to_numpy()\n",
    "    Y_On = linDataOnSchedule[parameter].to_numpy()\n",
    "    X_Off = linDataOffSchedule['temperature'].to_numpy()\n",
    "    Y_Off = linDataOffSchedule[parameter].to_numpy()\n",
    "\n",
    "    ## Find Change Point Models\n",
    "    with warnings.catch_warnings():\n",
    "        warnings.simplefilter('ignore')\n",
    "        pwlf_On = pwlf.PiecewiseLinFit(linDataOnSchedule['temperature'].to_numpy(), linDataOnSchedule[parameter].to_numpy())\n",
    "        cpts_On = pwlf_On.fitfast(3)\n",
    "        pwlf_Off = pwlf.PiecewiseLinFit(linDataOffSchedule['temperature'].to_numpy(),\n",
    "                                        linDataOffSchedule[parameter].to_numpy())\n",
    "        cpts_Off = pwlf_Off.fitfast(3)\n",
    "\n",
    "    Y_On_Fit = pwlf_On.predict(X_On)\n",
    "    Y_Off_Fit = pwlf_Off.predict(X_Off)\n",
    "\n",
    "#     MAE = coefficient_of_determination(np.concatenate([Y_On, Y_Off]), np.concatenate([Y_On_Fit, Y_Off_Fit]))\n",
    "    MAE = mean_squared_error(np.concatenate([Y_On, Y_Off]), np.concatenate([Y_On_Fit, Y_Off_Fit]), squared=False)\n",
    "\n",
    "    return pwlf_On, pwlf_Off, MAE\n",
    "\n",
    "pwlf_On, pwlf_Off, MAE = LinModel(df, [6, 18], 'electricity')\n",
    "MAE"
   ]
  },
  {
   "cell_type": "code",
   "execution_count": 50,
   "id": "651b83b7",
   "metadata": {
    "scrolled": true
   },
   "outputs": [
    {
     "data": {
      "application/vnd.jupyter.widget-view+json": {
       "model_id": "",
       "version_major": 2,
       "version_minor": 0
      },
      "text/plain": [
       "  0%|          | 0/3 [00:00<?, ?it/s]"
      ]
     },
     "metadata": {},
     "output_type": "display_data"
    },
    {
     "data": {
      "text/plain": [
       "array([  10.        ,   22.        , 2030.89866083])"
      ]
     },
     "execution_count": 50,
     "metadata": {},
     "output_type": "execute_result"
    }
   ],
   "source": [
    "def detect_schedule(data, parameter, weekend_split=True, output_all_sch=False):\n",
    "    # PreProcess for Change Point Change Point Analysis\n",
    "    linData = data.copy()\n",
    "    linData = linData.dropna(subset=['temperature', parameter])\n",
    "#     linData = linData[linData[paramater] != 0]\n",
    "    \n",
    "    r2_tot_max = -50000\n",
    "    \n",
    "    search_start = 10\n",
    "    min_sch_len = 12\n",
    "    \n",
    "    #Generate Schedule List\n",
    "    schs = []\n",
    "    for workDayStart in range(search_start, 24-min_sch_len):\n",
    "        for workDayEnd in range(workDayStart+min_sch_len, 24):\n",
    "            schs.append([float(workDayStart), float(workDayEnd)])\n",
    "\n",
    "    # Def main schedule finding function\n",
    "    results = np.empty((0,3), int)\n",
    "    for sch in tqdm(schs, leave=False):\n",
    "        pwlf_On, pwlf_Off, MAE = LinModel(data, sch, parameter, weekend_split)\n",
    "        results = np.append(results, np.array([[sch[0], sch[1], MAE]]), axis=0)\n",
    "    \n",
    "    if output_all_sch==False:\n",
    "        best_sch = results[np.argmin(results[:,2])]    \n",
    "        return best_sch\n",
    "    else:\n",
    "        return results\n",
    "                      \n",
    "detect_schedule(df, \"steam\")"
   ]
  },
  {
   "cell_type": "code",
   "execution_count": 11,
   "id": "dcb1b88f",
   "metadata": {},
   "outputs": [],
   "source": [
    "# steam_sch=[]\n",
    "# water_sch=[]\n",
    "# elec_sch=[]\n",
    "# for year in tqdm(range(2017,2021)):\n",
    "#     df = df_all[df_all.index.year == year]\n",
    "#     steam_sch.append(detect_schedule(df, \"steam\"))\n",
    "#     water_sch.append(detect_schedule(df, \"chilledWater\"))\n",
    "#     elec_sch.append(detect_schedule(df, \"electricity\"))"
   ]
  },
  {
   "cell_type": "code",
   "execution_count": 12,
   "id": "5b67c2f3",
   "metadata": {},
   "outputs": [],
   "source": [
    "# parameter_mat = 'steam'\n",
    "# info_mat = np.array([[parameter_mat, 2017], [parameter_mat, 2018], [parameter_mat, 2019], [parameter_mat, 2020]])\n",
    "# steam_sch_2 = np.hstack((info_mat, steam_sch))\n",
    "# steam_sch_2"
   ]
  },
  {
   "cell_type": "code",
   "execution_count": 13,
   "id": "a0a62574",
   "metadata": {},
   "outputs": [],
   "source": [
    "# parameter_mat = 'chilledWater'\n",
    "# info_mat = np.array([[parameter_mat, 2017], [parameter_mat, 2018], [parameter_mat, 2019], [parameter_mat, 2020]])\n",
    "# water_sch_2 = np.hstack((info_mat, water_sch))\n",
    "# water_sch_2"
   ]
  },
  {
   "cell_type": "code",
   "execution_count": 14,
   "id": "07f2fc27",
   "metadata": {},
   "outputs": [],
   "source": [
    "# parameter_mat = 'electricity'\n",
    "# info_mat = np.array([[parameter_mat, 2017], [parameter_mat, 2018], [parameter_mat, 2019], [parameter_mat, 2020]])\n",
    "# elec_sch_2 = np.hstack((info_mat, elec_sch))\n",
    "# elec_sch_2"
   ]
  },
  {
   "cell_type": "code",
   "execution_count": 15,
   "id": "8b5cd34d",
   "metadata": {},
   "outputs": [],
   "source": [
    "# sch_summary = np.vstack((steam_sch_2, water_sch_2, elec_sch_2))\n",
    "# sch_summary = pd.DataFrame(sch_summary, columns=['parameter', 'year', 'start_sch', 'end_sch', 'MAE'])\n",
    "# sch_summary\n",
    "\n",
    "# with open('schedule_summary.pkl', 'wb') as f:\n",
    "#     plk.dump(sch_summary, f)"
   ]
  },
  {
   "cell_type": "code",
   "execution_count": 16,
   "id": "ae19955e",
   "metadata": {},
   "outputs": [
    {
     "data": {
      "text/html": [
       "<div>\n",
       "<style scoped>\n",
       "    .dataframe tbody tr th:only-of-type {\n",
       "        vertical-align: middle;\n",
       "    }\n",
       "\n",
       "    .dataframe tbody tr th {\n",
       "        vertical-align: top;\n",
       "    }\n",
       "\n",
       "    .dataframe thead th {\n",
       "        text-align: right;\n",
       "    }\n",
       "</style>\n",
       "<table border=\"1\" class=\"dataframe\">\n",
       "  <thead>\n",
       "    <tr style=\"text-align: right;\">\n",
       "      <th></th>\n",
       "      <th>parameter</th>\n",
       "      <th>year</th>\n",
       "      <th>start_sch</th>\n",
       "      <th>end_sch</th>\n",
       "      <th>MAE</th>\n",
       "    </tr>\n",
       "  </thead>\n",
       "  <tbody>\n",
       "    <tr>\n",
       "      <th>0</th>\n",
       "      <td>steam</td>\n",
       "      <td>2017</td>\n",
       "      <td>6.0</td>\n",
       "      <td>17.0</td>\n",
       "      <td>1717.7869637898175</td>\n",
       "    </tr>\n",
       "    <tr>\n",
       "      <th>1</th>\n",
       "      <td>steam</td>\n",
       "      <td>2018</td>\n",
       "      <td>6.0</td>\n",
       "      <td>17.0</td>\n",
       "      <td>1468.9439595623694</td>\n",
       "    </tr>\n",
       "    <tr>\n",
       "      <th>2</th>\n",
       "      <td>steam</td>\n",
       "      <td>2019</td>\n",
       "      <td>5.0</td>\n",
       "      <td>17.0</td>\n",
       "      <td>1675.3416101121682</td>\n",
       "    </tr>\n",
       "    <tr>\n",
       "      <th>3</th>\n",
       "      <td>steam</td>\n",
       "      <td>2020</td>\n",
       "      <td>5.0</td>\n",
       "      <td>17.0</td>\n",
       "      <td>2021.715263619923</td>\n",
       "    </tr>\n",
       "    <tr>\n",
       "      <th>4</th>\n",
       "      <td>chilledWater</td>\n",
       "      <td>2017</td>\n",
       "      <td>5.0</td>\n",
       "      <td>17.0</td>\n",
       "      <td>1171.1471419487088</td>\n",
       "    </tr>\n",
       "    <tr>\n",
       "      <th>5</th>\n",
       "      <td>chilledWater</td>\n",
       "      <td>2018</td>\n",
       "      <td>5.0</td>\n",
       "      <td>17.0</td>\n",
       "      <td>1333.2143608539968</td>\n",
       "    </tr>\n",
       "    <tr>\n",
       "      <th>6</th>\n",
       "      <td>chilledWater</td>\n",
       "      <td>2019</td>\n",
       "      <td>5.0</td>\n",
       "      <td>17.0</td>\n",
       "      <td>1100.77848065231</td>\n",
       "    </tr>\n",
       "    <tr>\n",
       "      <th>7</th>\n",
       "      <td>chilledWater</td>\n",
       "      <td>2020</td>\n",
       "      <td>5.0</td>\n",
       "      <td>17.0</td>\n",
       "      <td>1215.2328035624785</td>\n",
       "    </tr>\n",
       "    <tr>\n",
       "      <th>8</th>\n",
       "      <td>electricity</td>\n",
       "      <td>2017</td>\n",
       "      <td>6.0</td>\n",
       "      <td>18.0</td>\n",
       "      <td>1402.4482990625079</td>\n",
       "    </tr>\n",
       "    <tr>\n",
       "      <th>9</th>\n",
       "      <td>electricity</td>\n",
       "      <td>2018</td>\n",
       "      <td>6.0</td>\n",
       "      <td>18.0</td>\n",
       "      <td>2851.3591283368355</td>\n",
       "    </tr>\n",
       "    <tr>\n",
       "      <th>10</th>\n",
       "      <td>electricity</td>\n",
       "      <td>2019</td>\n",
       "      <td>6.0</td>\n",
       "      <td>18.0</td>\n",
       "      <td>1917.283200787121</td>\n",
       "    </tr>\n",
       "    <tr>\n",
       "      <th>11</th>\n",
       "      <td>electricity</td>\n",
       "      <td>2020</td>\n",
       "      <td>6.0</td>\n",
       "      <td>18.0</td>\n",
       "      <td>1608.256490795212</td>\n",
       "    </tr>\n",
       "  </tbody>\n",
       "</table>\n",
       "</div>"
      ],
      "text/plain": [
       "       parameter  year start_sch end_sch                 MAE\n",
       "0          steam  2017       6.0    17.0  1717.7869637898175\n",
       "1          steam  2018       6.0    17.0  1468.9439595623694\n",
       "2          steam  2019       5.0    17.0  1675.3416101121682\n",
       "3          steam  2020       5.0    17.0   2021.715263619923\n",
       "4   chilledWater  2017       5.0    17.0  1171.1471419487088\n",
       "5   chilledWater  2018       5.0    17.0  1333.2143608539968\n",
       "6   chilledWater  2019       5.0    17.0    1100.77848065231\n",
       "7   chilledWater  2020       5.0    17.0  1215.2328035624785\n",
       "8    electricity  2017       6.0    18.0  1402.4482990625079\n",
       "9    electricity  2018       6.0    18.0  2851.3591283368355\n",
       "10   electricity  2019       6.0    18.0   1917.283200787121\n",
       "11   electricity  2020       6.0    18.0   1608.256490795212"
      ]
     },
     "execution_count": 16,
     "metadata": {},
     "output_type": "execute_result"
    }
   ],
   "source": [
    "with open('schedule_summary.pkl', 'rb') as f:\n",
    "    summary = plk.load(f)\n",
    "    \n",
    "with open('Ottawa_TMY.pkl', 'rb') as f:\n",
    "    normal_weather = plk.load(f)\n",
    "    \n",
    "summary"
   ]
  },
  {
   "cell_type": "code",
   "execution_count": 17,
   "id": "ecd73be9",
   "metadata": {},
   "outputs": [],
   "source": [
    "def calculate_energy(df, normal_weather, summary):\n",
    "    pwlf_On, pwlf_Off, MAE = LinModel(df, [6, 18], 'electricity')"
   ]
  },
  {
   "cell_type": "code",
   "execution_count": 18,
   "id": "7fd39298",
   "metadata": {},
   "outputs": [
    {
     "data": {
      "application/vnd.jupyter.widget-view+json": {
       "model_id": "29ec93c83df64777a1c31735c8ed25e2",
       "version_major": 2,
       "version_minor": 0
      },
      "text/plain": [
       "0it [00:00, ?it/s]"
      ]
     },
     "metadata": {},
     "output_type": "display_data"
    },
    {
     "name": "stdout",
     "output_type": "stream",
     "text": [
      "[[6.19965237e+07 5.10560022e+07 1.76469919e+01]\n",
      " [6.44186979e+07 5.19752152e+07 1.93165697e+01]\n",
      " [6.85825014e+07 5.51221393e+07 1.96265254e+01]\n",
      " [6.64867361e+07 5.09123668e+07 2.34247765e+01]\n",
      " [6.57300662e+07 3.79590015e+07 4.22501700e+01]\n",
      " [6.97477387e+07 4.02678129e+07 4.22664969e+01]\n",
      " [7.18689408e+07 3.97943170e+07 4.46293259e+01]\n",
      " [4.72842761e+07 3.66177112e+07 2.25583764e+01]\n",
      " [1.72966176e+08 1.31781957e+08 2.38105624e+01]\n",
      " [1.12055103e+08 8.38966434e+07 2.51291185e+01]\n",
      " [1.28430332e+08 1.01179348e+08 2.12184953e+01]\n",
      " [7.70340483e+07 6.21112878e+07 1.93716426e+01]]\n"
     ]
    }
   ],
   "source": [
    "model_results=[]\n",
    "for index, row in tqdm(summary.iterrows()):\n",
    "    sch = [float(row.start_sch), float(row.end_sch)]\n",
    "    parameter = row.parameter\n",
    "    df = df_all[df_all.index.year == float(row.year)]\n",
    "    pwlf_On, pwlf_Off, MAE = LinModel(df, sch, parameter)\n",
    "    energy_no_sch = np.sum(pwlf_On.predict(normal_weather.to_numpy().ravel()))\n",
    "    data_on, data_off = seperate_data_by_Schedule(normal_weather, sch[0], sch[1], WeekendSplit=True)\n",
    "    energy_with_sch = np.sum(pwlf_On.predict(data_on.to_numpy().ravel())) + np.sum(pwlf_Off.predict(data_off.to_numpy().ravel()))\n",
    "    savings = 100 - (energy_with_sch / energy_no_sch)*100\n",
    "    model_results.append([energy_no_sch, energy_with_sch, savings])\n",
    "    \n",
    "print(np.array(model_results))"
   ]
  },
  {
   "cell_type": "code",
   "execution_count": 24,
   "id": "5a98c9cd",
   "metadata": {},
   "outputs": [
    {
     "data": {
      "text/html": [
       "<div>\n",
       "<style scoped>\n",
       "    .dataframe tbody tr th:only-of-type {\n",
       "        vertical-align: middle;\n",
       "    }\n",
       "\n",
       "    .dataframe tbody tr th {\n",
       "        vertical-align: top;\n",
       "    }\n",
       "\n",
       "    .dataframe thead th {\n",
       "        text-align: right;\n",
       "    }\n",
       "</style>\n",
       "<table border=\"1\" class=\"dataframe\">\n",
       "  <thead>\n",
       "    <tr style=\"text-align: right;\">\n",
       "      <th></th>\n",
       "      <th>parameter</th>\n",
       "      <th>year</th>\n",
       "      <th>start_sch</th>\n",
       "      <th>end_sch</th>\n",
       "      <th>MAE</th>\n",
       "      <th>energy_no_sch</th>\n",
       "      <th>energy_w_sch</th>\n",
       "      <th>savings (%)</th>\n",
       "    </tr>\n",
       "  </thead>\n",
       "  <tbody>\n",
       "    <tr>\n",
       "      <th>0</th>\n",
       "      <td>steam</td>\n",
       "      <td>2017</td>\n",
       "      <td>6.0</td>\n",
       "      <td>17.0</td>\n",
       "      <td>1717.7869637898175</td>\n",
       "      <td>6.199652e+07</td>\n",
       "      <td>5.105600e+07</td>\n",
       "      <td>17.646992</td>\n",
       "    </tr>\n",
       "    <tr>\n",
       "      <th>1</th>\n",
       "      <td>steam</td>\n",
       "      <td>2018</td>\n",
       "      <td>6.0</td>\n",
       "      <td>17.0</td>\n",
       "      <td>1468.9439595623694</td>\n",
       "      <td>6.441870e+07</td>\n",
       "      <td>5.197522e+07</td>\n",
       "      <td>19.316570</td>\n",
       "    </tr>\n",
       "    <tr>\n",
       "      <th>2</th>\n",
       "      <td>steam</td>\n",
       "      <td>2019</td>\n",
       "      <td>5.0</td>\n",
       "      <td>17.0</td>\n",
       "      <td>1675.3416101121682</td>\n",
       "      <td>6.858250e+07</td>\n",
       "      <td>5.512214e+07</td>\n",
       "      <td>19.626525</td>\n",
       "    </tr>\n",
       "    <tr>\n",
       "      <th>3</th>\n",
       "      <td>steam</td>\n",
       "      <td>2020</td>\n",
       "      <td>5.0</td>\n",
       "      <td>17.0</td>\n",
       "      <td>2021.715263619923</td>\n",
       "      <td>6.648674e+07</td>\n",
       "      <td>5.091237e+07</td>\n",
       "      <td>23.424777</td>\n",
       "    </tr>\n",
       "    <tr>\n",
       "      <th>4</th>\n",
       "      <td>chilledWater</td>\n",
       "      <td>2017</td>\n",
       "      <td>5.0</td>\n",
       "      <td>17.0</td>\n",
       "      <td>1171.1471419487088</td>\n",
       "      <td>6.573007e+07</td>\n",
       "      <td>3.795900e+07</td>\n",
       "      <td>42.250170</td>\n",
       "    </tr>\n",
       "    <tr>\n",
       "      <th>5</th>\n",
       "      <td>chilledWater</td>\n",
       "      <td>2018</td>\n",
       "      <td>5.0</td>\n",
       "      <td>17.0</td>\n",
       "      <td>1333.2143608539968</td>\n",
       "      <td>6.974774e+07</td>\n",
       "      <td>4.026781e+07</td>\n",
       "      <td>42.266497</td>\n",
       "    </tr>\n",
       "    <tr>\n",
       "      <th>6</th>\n",
       "      <td>chilledWater</td>\n",
       "      <td>2019</td>\n",
       "      <td>5.0</td>\n",
       "      <td>17.0</td>\n",
       "      <td>1100.77848065231</td>\n",
       "      <td>7.186894e+07</td>\n",
       "      <td>3.979432e+07</td>\n",
       "      <td>44.629326</td>\n",
       "    </tr>\n",
       "    <tr>\n",
       "      <th>7</th>\n",
       "      <td>chilledWater</td>\n",
       "      <td>2020</td>\n",
       "      <td>5.0</td>\n",
       "      <td>17.0</td>\n",
       "      <td>1215.2328035624785</td>\n",
       "      <td>4.728428e+07</td>\n",
       "      <td>3.661771e+07</td>\n",
       "      <td>22.558376</td>\n",
       "    </tr>\n",
       "    <tr>\n",
       "      <th>8</th>\n",
       "      <td>electricity</td>\n",
       "      <td>2017</td>\n",
       "      <td>6.0</td>\n",
       "      <td>18.0</td>\n",
       "      <td>1402.4482990625079</td>\n",
       "      <td>1.729662e+08</td>\n",
       "      <td>1.317820e+08</td>\n",
       "      <td>23.810562</td>\n",
       "    </tr>\n",
       "    <tr>\n",
       "      <th>9</th>\n",
       "      <td>electricity</td>\n",
       "      <td>2018</td>\n",
       "      <td>6.0</td>\n",
       "      <td>18.0</td>\n",
       "      <td>2851.3591283368355</td>\n",
       "      <td>1.120551e+08</td>\n",
       "      <td>8.389664e+07</td>\n",
       "      <td>25.129118</td>\n",
       "    </tr>\n",
       "    <tr>\n",
       "      <th>10</th>\n",
       "      <td>electricity</td>\n",
       "      <td>2019</td>\n",
       "      <td>6.0</td>\n",
       "      <td>18.0</td>\n",
       "      <td>1917.283200787121</td>\n",
       "      <td>1.284303e+08</td>\n",
       "      <td>1.011793e+08</td>\n",
       "      <td>21.218495</td>\n",
       "    </tr>\n",
       "    <tr>\n",
       "      <th>11</th>\n",
       "      <td>electricity</td>\n",
       "      <td>2020</td>\n",
       "      <td>6.0</td>\n",
       "      <td>18.0</td>\n",
       "      <td>1608.256490795212</td>\n",
       "      <td>7.703405e+07</td>\n",
       "      <td>6.211129e+07</td>\n",
       "      <td>19.371643</td>\n",
       "    </tr>\n",
       "  </tbody>\n",
       "</table>\n",
       "</div>"
      ],
      "text/plain": [
       "       parameter  year start_sch end_sch                 MAE  energy_no_sch  \\\n",
       "0          steam  2017       6.0    17.0  1717.7869637898175   6.199652e+07   \n",
       "1          steam  2018       6.0    17.0  1468.9439595623694   6.441870e+07   \n",
       "2          steam  2019       5.0    17.0  1675.3416101121682   6.858250e+07   \n",
       "3          steam  2020       5.0    17.0   2021.715263619923   6.648674e+07   \n",
       "4   chilledWater  2017       5.0    17.0  1171.1471419487088   6.573007e+07   \n",
       "5   chilledWater  2018       5.0    17.0  1333.2143608539968   6.974774e+07   \n",
       "6   chilledWater  2019       5.0    17.0    1100.77848065231   7.186894e+07   \n",
       "7   chilledWater  2020       5.0    17.0  1215.2328035624785   4.728428e+07   \n",
       "8    electricity  2017       6.0    18.0  1402.4482990625079   1.729662e+08   \n",
       "9    electricity  2018       6.0    18.0  2851.3591283368355   1.120551e+08   \n",
       "10   electricity  2019       6.0    18.0   1917.283200787121   1.284303e+08   \n",
       "11   electricity  2020       6.0    18.0   1608.256490795212   7.703405e+07   \n",
       "\n",
       "    energy_w_sch  savings (%)  \n",
       "0   5.105600e+07    17.646992  \n",
       "1   5.197522e+07    19.316570  \n",
       "2   5.512214e+07    19.626525  \n",
       "3   5.091237e+07    23.424777  \n",
       "4   3.795900e+07    42.250170  \n",
       "5   4.026781e+07    42.266497  \n",
       "6   3.979432e+07    44.629326  \n",
       "7   3.661771e+07    22.558376  \n",
       "8   1.317820e+08    23.810562  \n",
       "9   8.389664e+07    25.129118  \n",
       "10  1.011793e+08    21.218495  \n",
       "11  6.211129e+07    19.371643  "
      ]
     },
     "execution_count": 24,
     "metadata": {},
     "output_type": "execute_result"
    }
   ],
   "source": [
    "new_summary = pd.concat([summary, pd.DataFrame(model_results, columns=['energy_no_sch', 'energy_w_sch', 'savings (%)'])], axis=1)\n",
    "new_summary"
   ]
  },
  {
   "cell_type": "code",
   "execution_count": 23,
   "id": "4d6986e0",
   "metadata": {},
   "outputs": [
    {
     "data": {
      "text/plain": [
       "(0.0, 45.978442590403084)"
      ]
     },
     "execution_count": 23,
     "metadata": {},
     "output_type": "execute_result"
    },
    {
     "data": {
      "image/png": "[encoded data removed]",
      "text/plain": [
       "<Figure size 432x288 with 1 Axes>"
      ]
     },
     "metadata": {
      "needs_background": "light"
     },
     "output_type": "display_data"
    }
   ],
   "source": [
    "parameters = ['steam', 'chilledWater', 'electricity']\n",
    "colors = ['r', 'b', 'k']\n",
    "for parameter, color in zip(parameters, colors):\n",
    "    plt.plot(new_summary[new_summary.parameter==parameter].year, new_summary[new_summary.parameter==parameter].savings, color)\n",
    "plt.legend(parameters)\n",
    "plt.ylim(ymin=0)"
   ]
  },
  {
   "cell_type": "code",
   "execution_count": 156,
   "id": "e696c731",
   "metadata": {},
   "outputs": [
    {
     "data": {
      "application/vnd.jupyter.widget-view+json": {
       "model_id": "",
       "version_major": 2,
       "version_minor": 0
      },
      "text/plain": [
       "  0%|          | 0/276 [00:00<?, ?it/s]"
      ]
     },
     "metadata": {},
     "output_type": "display_data"
    }
   ],
   "source": [
    "sch_map = detect_schedule(df, \"chilledWater\", output_all_sch=True)"
   ]
  },
  {
   "cell_type": "code",
   "execution_count": 170,
   "id": "44315bf9",
   "metadata": {},
   "outputs": [
    {
     "data": {
      "text/plain": [
       "array([ 0.,  2.,  4.,  6.,  8., 10., 12., 14., 16., 18., 20., 22., 24.])"
      ]
     },
     "execution_count": 170,
     "metadata": {},
     "output_type": "execute_result"
    }
   ],
   "source": [
    "np.linspace(0,24, 13)"
   ]
  },
  {
   "cell_type": "code",
   "execution_count": 182,
   "id": "5f0d7a2e",
   "metadata": {},
   "outputs": [
    {
     "data": {
      "image/png": "[encoded data removed]",
      "text/plain": [
       "<Figure size 432x288 with 2 Axes>"
      ]
     },
     "metadata": {
      "needs_background": "light"
     },
     "output_type": "display_data"
    }
   ],
   "source": [
    "plt.tricontourf(*sch_map.T)\n",
    "plt.colorbar()\n",
    "plt.xticks(np.linspace(0,22, 12))\n",
    "plt.yticks(np.linspace(0,22, 12))\n",
    "plt.xlabel('Schedule start time')\n",
    "plt.ylabel('Schedule end time');"
   ]
  },
  {
   "cell_type": "code",
   "execution_count": null,
   "id": "99aa182c",
   "metadata": {},
   "outputs": [],
   "source": []
  }
 ],
 "metadata": {
  "kernelspec": {
   "display_name": "Python 3",
   "language": "python",
   "name": "python3"
  },
  "language_info": {
   "codemirror_mode": {
    "name": "ipython",
    "version": 3
   },
   "file_extension": ".py",
   "mimetype": "text/x-python",
   "name": "python",
   "nbconvert_exporter": "python",
   "pygments_lexer": "ipython3",
   "version": "3.8.5"
  }
 },
 "nbformat": 4,
 "nbformat_minor": 5
}
